{
 "cells": [
  {
   "attachments": {},
   "cell_type": "markdown",
   "metadata": {},
   "source": [
    "### Initialize Model "
   ]
  },
  {
   "cell_type": "code",
   "execution_count": 1,
   "metadata": {},
   "outputs": [
    {
     "name": "stderr",
     "output_type": "stream",
     "text": [
      "/usr/local/lib/python3.7/dist-packages/tqdm/auto.py:21: TqdmWarning: IProgress not found. Please update jupyter and ipywidgets. See https://ipywidgets.readthedocs.io/en/stable/user_install.html\n",
      "  from .autonotebook import tqdm as notebook_tqdm\n",
      "/usr/lib/python3/dist-packages/requests/__init__.py:91: RequestsDependencyWarning: urllib3 (1.26.16) or chardet (3.0.4) doesn't match a supported version!\n",
      "  RequestsDependencyWarning)\n"
     ]
    }
   ],
   "source": [
    "from transformers import GPT2Tokenizer, GPT2LMHeadModel\n",
    "import sqlite3\n",
    "\n",
    "# Recall your saving path\n",
    "save_directory = \"./local_gpt2_model\"\n",
    "\n",
    "\n",
    "# Load the model\n",
    "model = GPT2LMHeadModel.from_pretrained(save_directory)\n",
    "\n",
    "# Load the tokenizer\n",
    "tokenizer = GPT2Tokenizer.from_pretrained(save_directory)\n",
    "\n",
    "def initialize_db(db_name=\"context_DPM_data.db\"):\n",
    "    conn = sqlite3.connect(db_name)\n",
    "    cursor = conn.cursor()\n",
    "    \n",
    "    # Create a table to store contexts\n",
    "    cursor.execute('''CREATE TABLE IF NOT EXISTS contexts\n",
    "                     (id INTEGER PRIMARY KEY, context TEXT)''')\n",
    "    conn.commit()\n",
    "    return conn, cursor\n",
    "\n",
    "def insert_context(conn, cursor, context):\n",
    "    cursor.execute(\"INSERT INTO contexts (context) VALUES (?)\", (context,))\n",
    "    conn.commit()\n",
    "\n",
    "def generate_answer_gpt2(question, context, max_length=500):\n",
    "    input_text = f\"{context}. {question}\"\n",
    "    input_ids = tokenizer.encode(input_text, return_tensors='pt')\n",
    "    \n",
    "    # Generate a response from the model\n",
    "    outputs = model.generate(input_ids, max_length=max_length, num_return_sequences=1, pad_token_id=tokenizer.eos_token_id, no_repeat_ngram_size=2, top_k=50, top_p=0.95)\n",
    "    \n",
    "    # Decode the output\n",
    "    generated_text = tokenizer.decode(outputs[0], skip_special_tokens=True)\n",
    "    \n",
    "    # The answer is whatever was added by the model, after the input text\n",
    "    answer = generated_text[len(input_text):].strip()\n",
    "    \n",
    "    return answer\n",
    "\n",
    "def retrieve_relevant_contexts(question, cursor, limit=10):\n",
    "    # Extract keywords from the question (this is a simple approach, can be improved)\n",
    "    keywords = question.split()\n",
    "    \n",
    "    # Query the database to find contexts that contain the keywords\n",
    "    contexts = []\n",
    "    for keyword in keywords:\n",
    "        cursor.execute(\"SELECT context FROM contexts WHERE context LIKE ?\", ('%' + keyword + '%',))\n",
    "        contexts.extend([row[0] for row in cursor.fetchall()])\n",
    "        \n",
    "    # Return unique contexts and limit the number of results\n",
    "    return list(set(contexts))[:limit]\n",
    "\n",
    "def answer_question_gpt2_v2(question, cursor):\n",
    "    # Fetch the most relevant contexts for the question\n",
    "    contexts = retrieve_relevant_contexts(question, cursor)\n",
    "    \n",
    "    # If no context found, provide a default answer\n",
    "    if not contexts:\n",
    "        return \"I don't have enough information to answer that question.\"\n",
    "    \n",
    "    # Loop through each context and generate an answer using GPT-2\n",
    "    for context in contexts:\n",
    "        answer = generate_answer_gpt2(question, context)\n",
    "        if answer:\n",
    "            return answer\n",
    "    return \"I couldn't generate a satisfactory answer based on the provided contexts.\"\n",
    "\n",
    "# Connect to DB\n",
    "conn, cursor = initialize_db()"
   ]
  },
  {
   "cell_type": "code",
   "execution_count": 10,
   "metadata": {},
   "outputs": [],
   "source": [
    "def get_contexts_for_question(conn, cursor, question):\n",
    "    # Extract keywords from the question\n",
    "    keywords = question.split()\n",
    "    \n",
    "    # Construct the query to search for contexts containing keywords\n",
    "    query_clauses = [\"context LIKE ?\" for _ in keywords]\n",
    "    query = \"SELECT context FROM contexts WHERE \" + \" OR \".join(query_clauses)\n",
    "    params = ['%' + keyword + '%' for keyword in keywords]\n",
    "    \n",
    "    cursor.execute(query, params)\n",
    "    results = cursor.fetchall()\n",
    "    \n",
    "    # Extract contexts from the results\n",
    "    contexts = [result[0] for result in results]\n",
    "    \n",
    "    return contexts"
   ]
  },
  {
   "cell_type": "code",
   "execution_count": 17,
   "metadata": {},
   "outputs": [
    {
     "name": "stdout",
     "output_type": "stream",
     "text": [
      "Found contexts:\n",
      "Imposition of LD While Granting Extensions: While granting extensions of delivery period on an application of the contractor, the letter and spirit of the application should be kept in view in fixing a time for delivery and it must be decided while granting extension whether it would be with or without imposition of Liquidated Damages.\n",
      "Where deliveries are accepted beyond the scheduled Delivery Date subject to levy of liquidated damages as provided in the Contract, the liquidated damages (if a percentage of the price) will be applicable on the price as varied by the operation of the Price Variation Clause.\n",
      "Liquidated Damages (LD)\n",
      "Liquidated damages: Compensation of loss on account of late delivery where loss is pre-estimated and mutually agreed to is termed as the Liquidated Damage (LD). Law allows recovery of pre-estimated loss, provided such a term is included in the contract. For imposition of LD, there is no need to establish actual loss due to late supply. The legal position with regard to claim for liquidated damages is as follows:\n",
      "Only reasonable sum can be calculated as damages, which in given situation may be less than the sum stipulated.\n",
      "Quantum of LD: As a general rule, if the contractor fails to deliver the stores/service or any installment thereof within the DP or at any time repudiates the contract before expiry of such period, the CFA, without prejudice to the right of the purchaser to any other remedy for breach of contract, may recover from the contractor a sum equivalent to 0.5% of the prices of any stores which the contractor has failed to deliver within the period agreed for delivery in the contract, for each week or part thereof during which the delivery of such stores may be in arrears, where delivery thereof is accepted after expiry of the aforesaid period. The total damages shall not exceed value of 10% of undelivered goods. The LD cannot exceed the amount stipulated in the contract.\n",
      "Waiver of LD: Liquidated damages may be waived in full or part, as per the guidelines contained in the preceding paragraph, with the approval of the CFA and the concurrence of the IFA, wherever such concurrence is mandated as per delegation of financial powers. In all such cases, adequate reasons should invariably be recorded for waiving the Liquidated Damages.\n",
      "Consequential Damages: Consequential damage is imposed over and above LD in case of time critical Turn-key Projects. Where considered necessary, it should be included in the RFP and the contract.\n",
      "Liquidated damages clause (Paragraph 9.7.17)\n",
      "Liquidated Damages: Provision should also be made in the RFP for payment of Liquidated Damages by the foreign supplier. The provisions of Chapter 10 may be referred to in this regard.\n",
      "Amendment to Contract: All amendments to contracts, which have financial implications, including short closing and delivery period extensions with or without imposition of liquidated damages, should be invariably approved by the CFA, and also in consultation with the IFA, wherever the original contract was concluded with the concurrence of integrated finance. Amendments affecting delivery period should not be made as a matter of routine. All cases for extension of delivery period should be processed with imposition of liquidated damages and other penalties as per the contract, except for the cases where the contract provides for waiving off of the liquidated damages on account of justified reasons.\n",
      "Liquidated Damages\n",
      "Liquidated Damages: In the event of the Seller’s failure to deliver the goods by the date specified in the contract the Buyer may deduct from the Seller as liquidated damages the sum of 0.5 % of the contract price of the undelivered goods for delay of each week or part of week and the Seller shall submit the documents after deduction of the liquidated damages subject to a maximum of 10% of the contract price of the undelivered goods. But if the delay is on account of any cause, which the Seller promptly notifies to the Buyer and the Buyer admits as a reasonable ground for extending the time for delivery, no liquidated damages will be leviable during the additional time thus agreed to by the Buyer. In this context, provisions of paragraph 7.10 of this Manual may also be referred to.\n",
      "Dispensation to firms undertaking Development Contracts. The contract documents may be issued free of cost. Further, submission of earnest money deposit and security deposit may not be made mandatory in case of firms of repute/firms which are registered with DGS&D, DGQA/DGAQA or other Departments/Services on case to case basis. . Development orders placed on firms may not have a liquidated damage clause, if it is found difficult to attract vendors to develop the item/ stores whose specification is normally not governed by any widely used standards like IS/BS, etc.\n",
      "the Seller. Giving or offering of any gift, bribe or inducement or any attempt at any such act on behalf of the Seller towards any officer/employee of the Buyer or to any other person in a position to influence any officer/employee of the Buyer for showing any favour in relation to this or any other contract, shall render the Seller to such liability/ penalty as the Buyer may deem proper, including but not limited to termination of the contract, imposition of penal damages, forfeiture of the Bank Guarantee and refund of the amounts paid by the Buyer.\n",
      "Liquidated Damages: In the event of the Seller's failure to submit the Bonds, Guarantees and Documents, supply the stores/goods and conduct trials, installation of equipment, training, etc as specified in this contract, the Buyer may, at his discretion, withhold any payment until the completion of the contract. The BUYER may also deduct from the SELLER as agreed, liquidated damages to the sum of 0.5% of the contract price of the delayed/undelivered stores/services mentioned above for every week of delay or part of a week, subject to the maximum value of the Liquidated Damages being not higher than 10% of the value of delayed stores.\n",
      "Liability for damages to the principal and the competing Bidders; and\n",
      "Should the stores or any installment thereof not be delivered within the time or times specified in the contract documents, or if defective delivery is made in respect of the stores or any installment thereof, the Buyer shall after granting the Seller 45 days to cure the breach, be at liberty, without prejudice to the right to recover liquidated damages as a remedy for breach of contract, to declare the contract as cancelled either wholly or to the extent of such default.\n",
      "(15) days from the date fixed for such PDI in order to allow his representative(s) to attend such tests, in which cases he shall inform in writing the Seller within 15 days before the date of the beginning of the PDI. Should the Buyer request for such postponement, liquidated damages, if any, shall not apply. In case the Buyer informs the Seller within the period mentioned hereinabove that he cannot attend the PDI or in case the Buyer does not come at the postponed date requested by him for performance of the PDI as mentioned above, the Seller shall be entitled to carry out said tests alone as scheduled. The Certificate of Conformity and the Acceptance Test Report will be signed by the Seller’s QA representative alone and such documents bearing the sole signature of the Seller’s QA representative shall have the same value and effect as if they have been signed by both the parties. In case Buyer does not elect to attend the PDI, the Buyer shall intimate the Seller in writing that it does not wish to attend the PDI.\n",
      "Penalty for use of Undue influence: The Seller undertakes that he has not given, offered or promised to give, directly or indirectly, any gift, consideration, reward, commission, fees, brokerage or inducement to any person in service of the Buyer or otherwise in procuring the Supply Orders or forbearing to do or for having done or forborne to do any act in relation to the obtaining or execution of the present Supply Order or any other Supply Order with the Government of India for showing or forbearing to show favour or disfavour to any person in relation to the present Supply Order or any other Supply Order with the Government of India. Any breach of the aforesaid undertaking by the Seller or any one employed by him or acting on his behalf (whether with or without the knowledge of the Seller) or the commission of any offers by the Seller or anyone employed by him or acting on his behalf, as defined in Chapter IX of the Indian Penal Code, 1860 or the Prevention of Corruption Act, 1986 or any other Act enacted for the prevention of corruption shall entitle the Buyer to cancel the Supply Order and all or any other Supply Orders with the Seller and recover from the Seller the amount of any loss arising from such cancellation. A decision of the Buyer or his nominee to the effect that a breach of the undertaking had been committed shall be final and binding on the Seller. Giving or offering of any gift, bribe or inducement or any attempt at any such act on behalf of the Seller towards any officer/employee of the Buyer or to any other person in a position to influence any officer/employee of the Buyer for showing any favour in relation to this or any other Supply Order, shall render the Seller to such liability/ penalty as the Buyer may deem proper, including but not limited to termination of the Supply Order, imposition of penal damages, forfeiture of the Bank Guarantee and refund of the amounts paid by the Buyer.\n",
      "Liquidated damages: In the event of the Seller's failure to submit the Bonds, Guarantees and Documents, supply the stores/goods and conduct trials, installation of equipment, training, etc as specified in this Supply Order, the Buyer may, at his discretion, withhold any payment until the completion of the Supply Order. The Buyer may also deduct from the Seller as agreed, Liquidated Damages to the sum of 0.5% of the Supply Order price of the delayed/undelivered stores/services mentioned above for every week of delay or part of a week, subject to the maximum value of the Liquidated Damages being not higher than 10% of the value of delayed stores.\n",
      "Should the stores or any installment thereof not be delivered with the time or time specified in the contract documents, or it defective delivery is made in respect of the stores or any installment thereof, the Buyer shall after granting the Seller 45 days to cure the breach, be at liberty, without prejudice to the right to recover liquidated damages as a remedy for breach of contract, to declare the contract as cancelled either wholly or to the extent of such default.\n",
      "(15) days from the date fixed for such PDI in order to allow his representative(s) to attend such tests, in which cases he shall inform in writing the Seller within 15 days before the date of the beginning of the PDI. Should the Buyer request for such postponement, liquidated damages, if any, shall not apply. In case the Buyer informs the Seller within the period mentioned hereinabove that he cannot attend the PDI or in case the Buyer does not come at the postponed date requested by him for performance of the PDI as mentioned above, the Seller shall be entitled to carry out said tests alone as scheduled. The Certificate of Conformity and the Acceptance Test Report will be signed by the Seller’s QA representative alone and such documents bearing the sole signature of the Seller’s QA representative shall have the same value and effect as if they have been signed by both the parties. In case Buyer does not elect to attend the PDI, the Buyer shall intimate the Seller in writing that it does not wish to attend the PDI.\n",
      "Penalty for use of Undue influence: The Seller undertakes that he has not given, offered or promised to give, directly or indirectly, any gift, consideration, reward, commission, fees, brokerage or inducement to any person in service of the Buyer or otherwise in procuring the Contracts or forbearing to do or for having done or forborne to do any act in relation to the obtaining or execution of the present Contract or any other Contract with the Government of India for showing or forbearing to show favour or disfavour to any person in relation to the present Contract or any other Contract with the Government of India. Any breach of the aforesaid undertaking by the Seller or any one employed by him or acting on his behalf (whether with or without the knowledge of the Seller) or the commission of any offers by the Seller or anyone employed by him or acting on his behalf, as defined in Chapter IX of the Indian Penal Code, 1860 or the Prevention of Corruption Act, 1986 or any other Act enacted for the prevention of corruption shall entitle the Buyer to cancel the contract and all or any other contracts with the Seller and recover from the Seller the amount of any loss arising from such cancellation. A decision of the Buyer or his nominee to the effect that a breach of the undertaking had been committed shall be final and binding on the Seller. Giving or offering of any gift, bribe or inducement or any attempt at any such act on behalf of the Seller towards any officer/employee of the Buyer or to any other person in a position to influence any officer/employee of the Buyer for showing any favour in relation to this or any other contract, shall render the Seller to such liability/ penalty as the Buyer may deem proper, including but not limited to termination of the contract, imposition of penal damages, forfeiture of the Bank Guarantee and refund of the amounts paid by the Buyer.\n",
      "Liquidated damages: In the event of the Seller's failure to submit the Bonds, Guarantees and Documents, supply the stores/goods and conduct trials, installation of equipment, training, etc as specified in this contract, the Buyer may, at his discretion, withhold any payment until the completion of the contract. The Buyer may also deduct from the Seller as agreed, Liquidated Damages to the sum of 0.5% of the contract price of the delayed/undelivered stores/services mentioned above for every week of delay or part of a week, subject to the maximum value of the Liquidated Damages being not higher than 10% of the value of delayed stores.\n",
      "Should the stores or any installment thereof not be delivered with the time or time specified in the contract documents, or it defective delivery is made in respect of the stores or any installment thereof, the Buyer shall after granting the Seller 45 days to cure the breach, be at liberty, without prejudice to the right to recover liquidated damages as a remedy for breach of contract, to declare the contract as cancelled either wholly or to the extent of such default.\n",
      "PDI. Should the Buyer request for such postponement, liquidated damages, if any, shall not apply. In case the Buyer informs the Seller within the period mentioned hereinabove that he cannot attend the PDI or in case the Buyer does not come at the postponed date requested by him for performance of the PDI as mentioned above, the Seller shall be entitled to carry out said tests alone as scheduled. The Certificate of Conformity and the Acceptance Test Report will be signed by the Seller’s QA representative alone and such documents bearing the sole signature of the Seller’s QA representative shall have the same value and effect as if they have been signed by both the parties. In case Buyer does not elect to attend the PDI, the Buyer shall intimate the Seller in writing that it does not wish to attend the PDI.\n",
      "ADVANCE BANK GUARANTEE PERFORMANCE BOND DURATION AND DELIVERY LIQUIDATED DAMAGES\n",
      "Electrical cables in way of repairs, if required, are to be covered adequately for protection against accidental mechanical / fire damage, by the CONTRACTOR. Damages caused during the execution of the work by the CONTRACTOR or his Sub Contractors are to be made good by the CONTRACTOR at his cost.\n",
      "All pipe lines, machinery, equipment and fittings which are not required to be taken out of the Ship are to be properly covered / secured to ensure they are not damaged during the course of the refit. Damages caused during the execution of the work by the CONTRACTOR or his Sub Contractors are to be made good by the CONTRACTOR at his cost.\n",
      "ARTICLE 9\t-\tLIQUIDATED DAMAGES\n",
      "9.1 The CONTRACTOR shall be liable to pay to the CUSTOMER Liquidated Damages (LD), and not by way of Penalty, a sum equivalent to 0.5% (zero point five percent) of the unfinished/undelivered/unfulfilled part of Contract for each week of delay beyond duration of Work specified in Article 8.1, subject to a maximum of 10% (Ten percent) of the Contract Price.\n",
      "If the Pharma CPSEs or their subsidiaries which have the benefit of PPP, fail to perform as per the purchase order, they would be subject to payment of liquidated damages or any penalty included in the contract.\n",
      "……% (……… per cent) of the delivered price of the delayed goods for each week of delay or part thereof (subject to the ceiling as provided in the aforesaid clause) beyond the original contract delivery date/the last unconditionally re-fixed delivery date (as & if applicable) viz. will be recovered from you as liquidated damages.\n",
      "……% (……… per cent) of the delivered price of the delayed goods for each week of delay or part thereof (subject to the ceiling as provided in the aforesaid clause) beyond the original contract delivery date/the last unconditionally re-fixed delivery date (as & if applicable) viz. will be recovered from you as liquidated damages.\n",
      "Imposition of LD While Granting Extensions: While granting extensions of delivery period on an application of the contractor, the letter and spirit of the application should be kept in view in fixing a time for delivery and it must be decided while granting extension whether it would be with or without imposition of Liquidated Damages.\n",
      "Where deliveries are accepted beyond the scheduled Delivery Date subject to levy of liquidated damages as provided in the Contract, the liquidated damages (if a percentage of the price) will be applicable on the price as varied by the operation of the Price Variation Clause.\n",
      "Liquidated Damages (LD)\n",
      "Liquidated damages: Compensation of loss on account of late delivery where loss is pre-estimated and mutually agreed to is termed as the Liquidated Damage (LD). Law allows recovery of pre-estimated loss, provided such a term is included in the contract. For imposition of LD, there is no need to establish actual loss due to late supply. The legal position with regard to claim for liquidated damages is as follows:\n",
      "Only reasonable sum can be calculated as damages, which in given situation may be less than the sum stipulated.\n",
      "Quantum of LD: As a general rule, if the contractor fails to deliver the stores/service or any installment thereof within the DP or at any time repudiates the contract before expiry of such period, the CFA, without prejudice to the right of the purchaser to any other remedy for breach of contract, may recover from the contractor a sum equivalent to 0.5% of the prices of any stores which the contractor has failed to deliver within the period agreed for delivery in the contract, for each week or part thereof during which the delivery of such stores may be in arrears, where delivery thereof is accepted after expiry of the aforesaid period. The total damages shall not exceed value of 10% of undelivered goods. The LD cannot exceed the amount stipulated in the contract.\n",
      "Waiver of LD: Liquidated damages may be waived in full or part, as per the guidelines contained in the preceding paragraph, with the approval of the CFA and the concurrence of the IFA, wherever such concurrence is mandated as per delegation of financial powers. In all such cases, adequate reasons should invariably be recorded for waiving the Liquidated Damages.\n",
      "Consequential Damages: Consequential damage is imposed over and above LD in case of time critical Turn-key Projects. Where considered necessary, it should be included in the RFP and the contract.\n",
      "Liquidated damages clause (Paragraph 9.7.17)\n",
      "Liquidated Damages: Provision should also be made in the RFP for payment of Liquidated Damages by the foreign supplier. The provisions of Chapter 10 may be referred to in this regard.\n",
      "Amendment to Contract: All amendments to contracts, which have financial implications, including short closing and delivery period extensions with or without imposition of liquidated damages, should be invariably approved by the CFA, and also in consultation with the IFA, wherever the original contract was concluded with the concurrence of integrated finance. Amendments affecting delivery period should not be made as a matter of routine. All cases for extension of delivery period should be processed with imposition of liquidated damages and other penalties as per the contract, except for the cases where the contract provides for waiving off of the liquidated damages on account of justified reasons.\n",
      "Liquidated Damages\n",
      "Liquidated Damages: In the event of the Seller’s failure to deliver the goods by the date specified in the contract the Buyer may deduct from the Seller as liquidated damages the sum of 0.5 % of the contract price of the undelivered goods for delay of each week or part of week and the Seller shall submit the documents after deduction of the liquidated damages subject to a maximum of 10% of the contract price of the undelivered goods. But if the delay is on account of any cause, which the Seller promptly notifies to the Buyer and the Buyer admits as a reasonable ground for extending the time for delivery, no liquidated damages will be leviable during the additional time thus agreed to by the Buyer. In this context, provisions of paragraph 7.10 of this Manual may also be referred to.\n",
      "Dispensation to firms undertaking Development Contracts. The contract documents may be issued free of cost. Further, submission of earnest money deposit and security deposit may not be made mandatory in case of firms of repute/firms which are registered with DGS&D, DGQA/DGAQA or other Departments/Services on case to case basis. . Development orders placed on firms may not have a liquidated damage clause, if it is found difficult to attract vendors to develop the item/ stores whose specification is normally not governed by any widely used standards like IS/BS, etc.\n",
      "in addition to all other relevant factors. Even in those rare cases where a formal written contract is not made, no order for supplies, etc., should be placed without at least a written agreement as to the price. Adequate provision must be made in the contracts for safeguarding Government property entrusted to the service provider. Changes in the Terms Of/Amendment to a Concluded Contract Changes in the Terms of a Concluded Contract: No variation in the terms of a concluded contract should normally be made, unless the contract specifically provides for it, in which case this can be done with the specific written consent of the parties to the contract. Amendment to a Concluded Contract: Amendment to a contract already concluded may become essential in certain situations when either party to the contract requests for an amendment and the proposed amendment is acceptable to other party to the contract. Enhancement in Rates: No enhancement in rates/prices should be made unless the contract specifically provides for it. Such situations may arise in those cases where the contract provides for price variation clauses or the change is due to variation in Excise/Custom Duties/other Government taxes & levies and the contract provides for payment of these duties on the basis of actual rates, provided the supplies are made during the original delivery period. Consultation with Integrated Finance in such cases would be required if the original contract was concluded with the concurrence of Integrated Finance or, after increase in value, the contract falls within the delegated powers of the CFA, exercisable with the concurrence of Integrated Finance. Vetting of Price Variation Clause: Financial Advisor should be consulted for vetting of price variation clauses/exchange rate variation clauses. Imposition of LD While Granting Extensions: While granting extensions of delivery period on an application of the contractor, the letter and spirit of the application should be kept in view in fixing a time for delivery and it must be decided while granting extension whether it would be with or without imposition of Liquidated Damages. Liability on Account of Taxes etc in the Event of Grant of Extension of Delivery Period: While grating extension of delivery period, any increase in the taxes and levies would not be payable, unless the contract specifically provides for it or it is expressly agreed to with the concurrence of the Integrated Finance. Consultation with IFA: All amendments to contracts, which have financial implications, including short closing and delivery period extensions (with or without LD) should be approved by the CFA in consultation with the IFA, where the original contract was concluded with the concurrence of integrated finance. Amendments of Minor and Non-financial Nature: Amendments of minor nature concerning Drawing No., Part Nos., etc., which do not have financial implication, may be approved by an authority one step below the contract approving authority, if such authority is specifically authorized by the CFA. Termination of Contract Termination of a Concluded Contract: A contract may be terminated in the following circumstances: When the supplier fails to honour any part of the contract including failure to deliver\n",
      "of the contract value or the amount payable for six months in case of maintenance contracts. Relaxation of the Prescribed Ceilings: The ceilings mentioned above may be relaxed only with the approval of the Secretary (Defence Finance) and the Secretary of the concerned Department of the Ministry of Defence. Stage/Part Payments: If stage/part payments are proposed to be made on achievement of milestones, it should be clearly mentioned upfront in the RFP with the approval of CFA and the concurrence of the IFA, wherever required as per the delegation of financial powers. Securing the Advance: While making any advance payment, adequate safeguards in the form of bank guarantee, etc., should be obtained from the firm. The format in which such guarantee is to be obtained is given in Form DPM-16. Price Variation Clause/Price Adjustment Clause Normally a contract should be entered into on a fixed price basis. Nevertheless, in the fluctuating market conditions it may sometimes become necessary in the case of long term contracts to consider variable price quotes given by the suppliers. The following guidelines will be followed in cases where a price variation provision is sought to be included in the contract: Price Variation Clause can be provided only in long-term contracts, where the delivery period extends beyond 18 months. In short-term contracts, firm and fixed prices should be provided for. (Where a price variation clause is provided, the price agreed upon should specify the base level viz., the month and year to which the price is linked, to enable variations being calculated with reference to the price levels prevailing in that month and year.) A formula for calculation of the price variations that have taken place between the Base level and the Scheduled Delivery Date should be included in this clause. The variations are calculated by using indices published by Governments or Chambers of Commerce periodically. An illustrative formula has been given in Part IV of Appendix ‘C’ for guidance. The Price Variation Clause should also specify cut-off dates for material and labour, as these inputs taper off well before the scheduled delivery dates. The Price Variation Clause should provide for a ceiling on price variations, particularly where escalations are involved. It could be a percentage per annum or an overall ceiling or both. The buyer should ensure a provision in the contract for benefit of any reduction in the price in terms of the Price Variation Clause being passed on to him. The clause should also stipulate a minimum percentage of variation of the contract price above which price variations will be admissible (e.g. where resultant increase is lower than two per cent no price adjustment will be made in favour of the supplier). Where advance or stage payments are made, there should be a further stipulation that no price variations will be admissible on such portions of the price, after the dates of such payment. Where deliveries are accepted beyond the scheduled Delivery Date subject to levy of liquidated damages as provided in the Contract, the liquidated damages (if a percentage of the price) will be\n",
      "and repurchasing the non-supplied quantity. Deciding the Course of Action in the Event of Failure of Supply: For deciding on these options the Procuring Authority has to balance the time factor required for making repurchase and whether the supply can be arranged earlier than the period of extension sought for at cheaper rates from alternative sources and in the latter case whether the indentor can reasonably wait to take advantage of lower trend in prices. Extension shall be granted only where the CFA is convinced that supplier would come forward during extended DP. Detailed instructions are contained in chapter 12 of DGS &D Manual 1999. Suggested format for correspondence/amendment on this issue has been given in Forms DPM- 26, DPM-27, DPM-28 and DPM-29 for guidance. Maximum Period of Extension: The maximum period of extension of delivery that can be granted by the CFA under delegated powers should be such that the total period - the original delivery period plus the extension – does not exceed twice the original delivery period. Extensions beyond this period would require sanction of the Ministry of Defence. Liquidated Damages (LD) Liquidated damages: Compensation of loss on account of late delivery where loss is pre-estimated and mutually agreed to is termed as the Liquidated Damage (LD). Law allows recovery of pre-estimated loss, provided such a term is included in the contract. For imposition of LD, there is no need to establish actual loss due to late supply. The legal position with regard to claim for liquidated damages is as follows: Whatever the quantum of the loss sustained, the claim cannot exceed the sum stipulated in the contract. Only reasonable sum can be calculated as damages, which in given situation may be less than the sum stipulated. What is a reasonable sum would depend on facts. Court may proceed on the assumption that the sum stipulated reflects the genuine pre-estimates of the parties as to the probable loss and such clause is intended to dispense with proof thereof. The distinction between penalty and LD has been abolished by the Indian Contract Act and in every case, the Court is not bound to award more than ‘reasonable compensation’ not exceeding the amount so named. Quantum of LD: As a general rule, if the contractor fails to deliver the stores/service or any installment thereof within the DP or at any time repudiates the contract before expiry of such period, the CFA, without prejudice to the right of the purchaser to any other remedy for breach of contract, may recover from the contractor a sum equivalent to 0.5% of the prices of any stores which the contractor has failed to deliver within the period agreed for delivery in the contract, for each week or part thereof during which the delivery of such stores may be in arrears, where delivery thereof is accepted after expiry of the aforesaid period. The total damages shall not exceed value of 10% of undelivered goods. The LD cannot exceed the amount stipulated in the contract. Guidelines for levying of LD: The following guidelines would be followed while\n",
      "taking decision for imposition of LD: Sr No Circumstances Quantum of LD 1 Delay in supplies resulted in actual/ demonstrable monetary loss and the Supplier was responsible for the delay Full LD as per the provisions of paragraph 7.8.2, subject to the LD not exceeding 10% of the value of the contract 2 Delay in supplies resulted in actual/ demonstrable monetary loss but the Supplier was responsible only for a part of the delay and the remaining part was beyond Supplier’s control Full LD for the period for which the Supplier was responsible for the delay, subject to the LD not exceeding 10% of the value of the contract 3 Delay in supplies resulted in actual/ demonstrable monetary loss but the entire delay was due to circumstances beyond the control of the Supplier LD may be waived in full 4 Actual/demonstrable monetary loss cannot be certified and no inconvenience has been caused LD may be waived in full Waiver of LD: Liquidated damages may be waived in full or part, as per the guidelines contained in the preceding paragraph, with the approval of the CFA and the concurrence of the IFA, wherever such concurrence is mandated as per delegation of financial powers. In all such cases, adequate reasons should invariably be recorded for waiving the Liquidated Damages. Consequential Damages: Consequential damage is imposed over and above LD in case of time critical Turn-key Projects. Where considered necessary, it should be included in the RFP and the contract. Arbitration Arbitration: If a dispute arises between the Purchaser and the Supplier and it does not get resolved through mutual discussions, the parties may agree for arbitration. MOD/CFAs should prepare a panel of arbitrators for selection by the Defence Secretary /CFA’s who appoint an arbitrator, whose decisions taken after due consideration of factors brought out by both parties are considered final. The option of approaching Ministry of Law for appointment of Arbitrator can also be exercised. Services Headquarters have the power to appoint Arbitrators within their delegated financial powers. The standard Arbitration clauses are given in Forms DPM-7, DPM-8 and DPM-9. Appointment of Arbitrators through Court: There may be situations when either party approaches a court of law for appointing an independent arbitrator. Purchase officers must consult the Legal Advisor (Defence) and Government counsel in all cases of arbitration. Force Majeure Force Majeure: Wherever considered necessary, this clause may be included in the RFP and in the Contract. In this context provisions of paragraph 10.9 of this Manual will apply, mutatis mutandis, to procurement from indigenous sources also, though this clause should be included in such contracts only if absolutely necessary. The standard format of the clause is given in Part-IV of Appendix C. Option Clause and Repeat Order Clause Repeat Order and Option Clauses: Provision for repeat order and option clause should not be made as a matter of course in the RFPs as these clauses have an impact on price. Either or both these clauses may be provided in the RFP only in exceptional circumstances, where the consumption pattern is not predictable, with\n",
      "of processing of proposals for procurement of goods and services from foreign sources and the procedure for obtaining CFA’s approval are the same as mentioned in Chapter 5 of this Manual. Special attention, however, needs to be paid to preparation of Request for Proposal (RFP) as mentioned in the following paragraph. Request for Proposals (RFP) RFP format: The RFP is a very important document and should be a true and complete reflection of the indent. A standard format of RFP is given in Appendix ‘C’. The goods/services required, bidding procedures and contract terms are prescribed in the RFP. Special attention should be paid to the following aspects while preparing the RFP, keeping in view the provisions of paragraphs 9.7.2 to 9.7.29 of this Manual: Description of the required goods and services (Paragraph 9.7.2) Date and time of opening of the tenders (Paragraph 9.7.3) Desired period of validity of offers (Paragraph 9.7.4) Technical specifications (Paragraph 9.7.5) Inspection clauses (Paragraph 9.7.6) Special Conditions of Contract (Paragraph 9.7.7) Quality assurance requirements (Paragraph 9.7.8) Source of supply in case of vendors/stockists (Paragraph 9.7.9) Mode and terms of delivery (Paragraph 9.7.10) Delivery Schedule (Paragraph 9.7.11) Mode of payment and the paying authority (Paragraph 9.7.12) Terms of payment and paying authority (Paragraph 9.7.13) Evaluation parameters (Paragraph 9.7.14) Performance bank guarantee, if applicable (Paragraph 9.7.15) Arbitration Clause (Paragraph 9.7.16) Liquidated damages clause (Paragraph 9.7.17) Advance payments (Paragraph 9.7.18) Installation, commissioning and AMC, if applicable (Paragraph 9.7.19) Life time product support for spares, maintenance advice, defect investigation and information on product upgrade (Paragraph 9.7.20) Repeat Order and Option Clause (Paragraphs 9.7.21 to 9.7.23) Risk and Expense Clause (Paragraph 9.7.24) Apportionment of Quantity (Paragraph 9.7.25) Acceptance of excess or short deliveries (Paragraph 9.7.26) Force Majeure (Paragraph 9.7.27) Claims (Paragraph 9.7.28) Applicability of Laws (Paragraph 9.7.29) Details of Goods and Services: It is of paramount importance that the details of the required goods and services are mentioned in the RFP in a manner which does not lend itself to varying interpretations by the prospective bidders in different countries. The description should be clear and precise. Deadline for Submission of Quotations: Reasonable time should be allowed to the vendors to respond to the RFP and submit their bids. Normally, six to twelve weeks should be allowed to foreign vendors for submission of offers. In case of urgent procurements, this may be reduced to four weeks or even less. Period of Validity of Offers: The validity period of the quotations mentioned in the RFP should be realistic. The period should be fixed keeping in view the nature and quantity of goods and services and the time anticipated in completing the post tender formalities. In case of foreign procurement, normally a period of ninety to one hundred and eighty days may be prescribed, as considered appropriate. Technical Specifications: All verifiable technical parameters in terms of size, weight, performance, operating environment, power, utility life, storage and shelf life, etc., both in terms of ‘essential’ and ‘desirable’ levels, as applicable to the equipment being procured should be listed clearly and unambiguously. Inspection Clauses: The RFP should clearly\n",
      "guarantee is to be issued in the prescribed format by an Indian Public Sector Bank or a Private Sector bank authorized to conduct government business or a First Class International bank of repute located abroad, acceptable to the purchaser within thirty days from the date of the signing of the contract. Guidelines on confirmation of Bank Guarantees of Foreign banks by Indian banks is given in Form DPM-14.This deposit is meant to compensate the purchaser for any loss suffered due to failure of the supplier to complete his obligation as per the contract. The PBG amount should preferably be five percent of the value of the contract, if there is a Risk Purchase clause in the Contract. However, where Risk and Expense Purchase is unenforceable because of single vendor situation and remote possibility of recovering from an alternative source, the PBG should be for ten per cent to act as a financial cover in the event of failure of the firm to perform/recession. [Provisions of Chapter 12 may also be referred to in respect of PBG. Arbitration: There should be an Arbitration clause in the RFP. The provisions of Chapter 10 may be referred to in this regard. Liquidated Damages: Provision should also be made in the RFP for payment of Liquidated Damages by the foreign supplier. The provisions of Chapter 10 may be referred to in this regard. Advance Payments: Normally no advance should be offered in the RFP. However, if it is decided to provide advance payment, the percentage should be mentioned upfront in the RFP. As regards the quantum of advance and the bank guarantee to secure it, relevant provisions of Chapter 7 of this Manual may be referred to. Installation, Commissioning and AMC: If the equipment/spare parts are required to be installed and/or commissioned, and training imparted relevant information in this regard should be provided in the RFP and concomitant modifications made in other clauses of the RFP. In case Annual/Composite Maintenance Contract is required, the period for which such contract is required and the scope of services expected of the vendor should be clearly spelt out. Life Time Product Support: If there is a requirement for life time product support for spares, maintenance advice, defect investigation and information on product upgrade, etc., it should also be mentioned in the RFP. Repeat Order and Option Clauses: As in the case of indigenous procurement, in the case of procurement from foreign sources also, provision for repeat order and option clauses should not be made as a matter of course in the RFP as these have a price implication. Either or both these clauses may be provided in the RFP only in exceptional circumstances, where the consumption pattern is not predictable with the stipulation that while exercising one or both these clauses, the overall ceiling of fifty percent of the originally contracted quantity will not be exceeded. The provisions of paragraph 7.13 of this Manual will be applicable in the case of foreign procurements also. Conditions Governing Repeat Order: Repeat order against a previous order may be considered for approval\n",
      "be taken. Acceptance of an offer other than L1: In no case, an offer other than the lowest would be accepted. Determination of L1 on Entire Package: In case an RFP contains a large number of items of spares and it is indicated in the RFP that L1 will be decided based on the package price, the L1 offer should be determined on the basis of the cash outflow for the entire package. After determining L1 in this manner, negotiations should be held with that firm in respect of items for which rates quoted by the firm are higher than those quoted by other vendors. In such cases, negotiation with L1 vendor would have to be done with reference to the lowest bid for that item (items). In case the L1 vendor does not reduce his price reasonably for high value item(s), possibility of concluding a fresh contract by issuing a separate RFP for such item(s) may be considered keeping in view the operational requirements. Purchase Decision: The CFA/Committee CFA must consider all aspects of the case including reasonability of offered prices, quoted terms and conditions, technical evaluation report etc. It has to be ensured that proper policies and procedure have been followed at various stages of procurement for determining L1 firm. The financial implication should be considered as the all-inclusive cost to the user on delivery to the designated consignee. Purchase decisions should be taken through a formal written order. Signing of the Contract/Placement of Supply Order: The draft contract, duly vetted by the IFA, where required as per delegation of financial powers, should be put up for CFA’s approval before concluding the contract with the vendor. The contract/supply order should be signed by an officer authorized to do so. The contract /supply order should be signed on each page by the authorized representative of the vendor and duly acknowledged as accepted. Amendment to Contract: All amendments to contracts, which have financial implications, including short closing and delivery period extensions with or without imposition of liquidated damages, should be invariably approved by the CFA, and also in consultation with the IFA, wherever the original contract was concluded with the concurrence of integrated finance. Amendments affecting delivery period should not be made as a matter of routine. All cases for extension of delivery period should be processed with imposition of liquidated damages and other penalties as per the contract, except for the cases where the contract provides for waiving off of the liquidated damages on account of justified reasons. Re-tendering: Re-tendering may be recommended by the CNC with caution and approved by the CFA with the concurrence of the IFA, wherever applicable, under the circumstances mentioned in paragraph 4.16.1 of this Manual. Standard Conditions of Contract - Foreign Procurement: The Standard conditions of contract will apply to all contracts made/supply orders placed as per the procedure laid down in this Manual, except to the extent that any clause thereof has been modified in any particular contract/supply order. The details of the standard conditions of contract are covered in Chapter 10. The specimen\n",
      "less than the remaining technical life of the faulty/defective/deficient unit being replaced, or the actual life of such a unit as specified in the contract, whichever is more. Time-frame for raising the claim: The time frame for raising the claims for quantitative and qualitative claims, as well as quality claims on account of defects and deficiencies is given in paragraph 9.7.28 of this Manual. Liquidated Damages Liquidated Damages: In the event of the Seller’s failure to deliver the goods by the date specified in the contract the Buyer may deduct from the Seller as liquidated damages the sum of 0.5 % of the contract price of the undelivered goods for delay of each week or part of week and the Seller shall submit the documents after deduction of the liquidated damages subject to a maximum of 10% of the contract price of the undelivered goods. But if the delay is on account of any cause, which the Seller promptly notifies to the Buyer and the Buyer admits as a reasonable ground for extending the time for delivery, no liquidated damages will be leviable during the additional time thus agreed to by the Buyer. In this context, provisions of paragraph 7.10 of this Manual may also be referred to. Force Majeure Force Majeure: Neither party shall bear responsibility for the complete or partial non-performance of any of its obligations (except for failure to pay any sum which has become due on account of receipt of goods under the provisions of the contract), if the non-performance results from such Force Majeure circumstances as Flood, Fire, Earthquake and other acts of God, as well as War, Military operations, blockade, Acts or Actions of State Authorities or any other circumstances beyond the control of the parties that might arise after the conclusion of the contract. Intimation regarding Force Majeure: The party for which it becomes impossible to meet obligations under this contract due to Force Majeure conditions, is to notify in written form the other party of the beginning and cessation of the above circumstances immediately, but in any case not later than ten days from the moment of their beginning. Certification of Force Majeure: Certificate of a Chamber of Commerce (Commerce and Industry) or other competent authority or organization of the respective country shall be a sufficient proof of commencement and cessation of the above circumstances. Extension of Time: In such circumstances, the time stipulated for the performance of an obligation under the contract is extended correspondingly for the period of time of action of these circumstances and their consequences. Right to terminate contract: If the impossibility of complete or partial performance of an obligation lasts for more than six months, either party to the contract reserves the right to terminate the contract totally or partially upon giving prior written notice of thirty days to the other party of the intention to terminate without any liability, other than reimbursement on the terms provided in the agreement/ contract for the goods received. Standard format of the clause: The standard format of the clause to be included\n",
      "ex-import for equipment which has adequate residual life and population. Items for which TOT has been taken. Items including those which are low tech and the sample is available and which it would be economic to develop. Spares which are fast moving and the requirement is recurring in nature. Goods for which the import price is exorbitant. Items short-listed from MRLS and import list depending upon their criticality, technological processes involved and consumption rate. Where an Indian firm offers to develop an item on ‘No Cost : No Commitment’ basis. In special cases, where it is considered in the interest of the State to indigenize or for any other strategic reason to be recorded, e.g. Secrecy devices. Dispensation to firms undertaking Development Contracts. The contract documents may be issued free of cost. Further, submission of earnest money deposit and security deposit may not be made mandatory in case of firms of repute/firms which are registered with DGS&D, DGQA/DGAQA or other Departments/Services on case to case basis. . Development orders placed on firms may not have a liquidated damage clause, if it is found difficult to attract vendors to develop the item/ stores whose specification is normally not governed by any widely used standards like IS/BS, etc. Paper Particulars and Design Aspects Model. Development contracts are generally of the following two types:- Those where industrial engineering of Prototype models is to be done by the firm on the complete design data which has already been evolved in the Establishment/Department by the design and development of an existing/original model. Those where designing, developing and engineering are completely done by a firm under technical guidance and advice from the developmental authorities. In this case, it may be possible to utilize the expertise available in the industry and ensure quick and smooth supply. Design Aspects. In the case of contracts as at Para 15.3.1(a) above, the development contract would always be based on a draft technical / design specification and other information to be provided by the Establishment / Dte of Indigenisation/ Laboratory / Workshop / Depot. In case of contracts as at Para 15.3.1 (b) above, the contract should contain a provision for the development of industrially engineered models/equipment and supply of models/equipment at various stages with relevant types of drawing and other documents by the contractor, as required by the contracting authority. The design material, workmanship and performance of the equipment for a specific period should also be guaranteed by the contractor. Vendor Identification / Development Identification of Vendors. Identification of appropriate vendors is a vital step and must be well considered. Wherever possible, the vendors who are registered with DGAQA/DGQA/DRDO/OFs/ DPSUs/Services indigenisation agencies/ NSIC should be approached. Suitable vendors can also be identified by the developing agency in consultation with other developing agencies apart from firms registered with DGQA or any other defence establishment. Unregistered firms may be considered taking into account their infrastructural facilities, capacity, technical competence and financial standing. A format for this purpose is enclosed at Form DPM - 5. Firms of national repute may also be considered based on\n",
      "on behalf of the Seller towards any officer/employee of the Buyer or to any other person in a position to influence any officer/employee of the Buyer for showing any favour in relation to this or any other contract, shall render the Seller to such liability/ penalty as the Buyer may deem proper, including but not limited to termination of the contract, imposition of penal damages, forfeiture of the Bank Guarantee and refund of the amounts paid by the Buyer. Agents / Agency Commission: The Seller confirms and declares to the Buyer that the Seller is the original manufacturer of the stores/provider of the services referred to in this Contract and has not engaged any individual or firm, whether Indian or foreign whatsoever, to intercede, facilitate or in any way to recommend to the Government of India or any of its functionaries, whether officially or unofficially, to the award of the contract to the Seller; nor has any amount been paid, promised or intended to be paid to any such individual or firm in respect of any such intercession, facilitation or recommendation. The Seller agrees that if it is established at any time to the satisfaction of the Buyer that the present declaration is in any way incorrect or if at a later stage it is discovered by the Buyer that the Seller has engaged any such individual/firm, and paid or intended to pay any amount, gift, reward, fees, commission or consideration to such person, party, firm or institution, whether before or after the signing of this contract, the Seller will be liable to refund that amount to the Buyer. The Seller will also be debarred from entering into any supply Contract with the Government of India for a minimum period of five years. The Buyer will also have a right to consider cancellation of the Contract either wholly or in part, without any entitlement or compensation to the Seller who shall in such an event be liable to refund all payments made by the Buyer in terms of the Contract along with interest at the rate of 2% per annum above LIBOR rate. The Buyer will also have the right to recover any such amount from any contracts concluded earlier with the Government of India. Access to Books of Accounts: In case it is found to the satisfaction of the Buyer that the Seller has engaged an Agent or paid commission or influenced any person to obtain the contract as described in clauses relating to Agents/Agency Commission and penalty for use of undue influence, the Seller, on a specific request of the Buyer, shall provide necessary information/ inspection of the relevant financial documents/information. Non-disclosure of Contract documents: Except with the written consent of the Buyer/ Seller, other party shall not disclose the contract or any provision, specification, plan, design, pattern, sample or information thereof to any third party. Liquidated Damages: In the event of the Seller's failure to submit the Bonds, Guarantees and Documents, supply the stores/goods and conduct trials, installation of equipment, training, etc as specified in this contract, the Buyer\n",
      "may, at his discretion, withhold any payment until the completion of the contract. The BUYER may also deduct from the SELLER as agreed, liquidated damages to the sum of 0.5% of the contract price of the delayed/undelivered stores/services mentioned above for every week of delay or part of a week, subject to the maximum value of the Liquidated Damages being not higher than 10% of the value of delayed stores. Termination of Contract: The Buyer shall have the right to terminate this Contract in part or in full in any of the following cases :- The delivery of the material is delayed for causes not attributable to Force Majeure for more than ( months) after the scheduled date of delivery. The Seller is declared bankrupt or becomes insolvent. The delivery of material is delayed due to causes of Force Majeure by more than ( months) provided Force Majeure clause is included in contract. The Buyer has noticed that the Seller has utilised the services of any Indian/Foreign agent in getting this contract and paid any commission to such individual/company etc. As per decision of the Arbitration Tribunal. Notices: Any notice required or permitted by the contract shall be written in the English language and may be delivered personally or may be sent by FAX or registered pre-paid mail/airmail, addressed to the last known address of the party to whom it is sent. Transfer and Sub-letting: The Seller has no right to give, bargain, sell, assign or sublet or otherwise dispose of the Contract or any part thereof, as well as to give or to let a third party take benefit or advantage of the present Contract or any part thereof. Patents and other Industrial Property Rights: The prices stated in the present Contract shall be deemed to include all amounts payable for the use of patents, copyrights, registered charges, trademarks and payments for any other industrial property rights. The Seller shall indemnify the Buyer against all claims from a third party at any time on account of the infringement of any or all the rights mentioned in the previous paragraphs, whether such claims arise in respect of manufacture or use. The Seller shall be responsible for the completion of the supplies including spares, tools, technical literature and training aggregates irrespective of the fact of infringement of the supplies, irrespective of the fact of infringement of any or all the rights mentioned above. Amendments: No provision of present Contract shall be changed or modified in any way (including this provision) either in whole or in part except by an instrument in writing made after the date of this Contract and signed on behalf of both the parties and which expressly states to amend the present Contract. Taxes and Duties In respect of Foreign Bidders: All taxes, duties, levies and charges which are to be paid for the delivery of goods, including advance samples, shall be paid by the parties under the present contract in their respective countries. In respect of Indigenous bidders General If Bidder desires to ask for excise duty or Sales\n",
      "process and Bidders promise that they will not offer bribes. Under this Pact, the Bidders for specific services or contracts agree with the Buyer to carry out the procurement in a specified manner. The Format of Pre-Integrity Clause will be as per Form DPM-10 (Available in MoD website, and can be provided on request). The essential elements of the Pact are as follows: A pact (contract) between the Government of India (Ministry of Defence) (the authority or the “principal”) and those companies submitting a tender for this specific activity (the “Bidder”); An undertaking by the Principal that its officials will not demand or accept any bribes, gifts etc., with appropriate disciplinary or criminal sanctions in case of violation; A statement by each Bidder that it has not paid, and will not pay, any bribes; An undertaking by each Bidder to disclose all payments made in connection with the Contract in question to anybody (including agents and other middlemen as well as family members, etc., of officials); the disclosure would be made either at the time of submission of Bids or upon demand of the Principal, especially when a suspicion of a violation by that Bidder emerges; The explicit acceptance by each Bidder that the no-bribery commitment and the disclosure obligation as well as the attendant sanctions remain in force for the winning Bidder until the contract has been fully executed. Undertaking on behalf of a Bidding company will be made “in the name and on behalf of the company’s Chief Executive Officer”. The following set of sanctions shall be enforced for any violation by a Bidder of its commitments or undertakings: Denial or loss of contracts; Forfeiture of the Bid security and performance bond; Liability for damages to the principal and the competing Bidders; and Debarment of the violator by the Principal for an appropriate period of time. Bidders are also advised to have a company code of conduct (clearly rejecting the use of bribes and other unethical behaviour and compliance program for the implementation of the code of conduct throughout the company. Part IV – Special Conditions of RFP The Bidder is required to give confirmation of their acceptance of Special Conditions of the RFP mentioned below which will automatically be considered as part of the Contract concluded with the successful Bidder (i.e. Seller in the Contract) as selected by the Buyer. Failure to do so may result in rejection of Bid submitted by the Bidder. Performance Guarantee: Indigenous cases: The Bidder will be required to furnish a Performance Guarantee by way of Bank Guarantee through a public sector bank or a private sector bank authorized to conduct government business (ICICI Bank Ltd., Axis Bank Ltd or HDFC Bank Ltd.) for a sum equal to 10% of the contract value within 30 days of receipt of the confirmed order. Performance Bank Guarantee should be valid up to 60 days beyond the date of warranty. The specimen of PBG is given in Form DPM-15 (Available in MoD website and can be provided on request). Foreign cases: The Seller will be required to\n",
      "payment for supplies made against the Rate contract – “We certify that there has been no reduction in sale price of the stores of description identical to the stores supplied to the Government under the contract herein and such stores have not been offered/sold by me/us to any person/organisation including the purchaser or any department of Central Government or any Department of a state Government or any Statutory Undertaking of the Central or state Government as the case may be upto the date of bill/the date of completion of supplies against all supply orders placed during the currency of the Rate Contract at price lower than the price charged to the government under the contract except for quantity of stores categories under sub-clauses (a),(b) and (c) of sub-para (ii) above details of which are given below - ”. Exchange Rate Variation Clause: Detailed time schedule for procurement of imported material and their value at the FE rates adopted for the contract is to be furnished by the foreign Bidder as per the format given below Year wise and major currency wise import content break up Year Total cost of material FE content outflow (Equivalent in Rupees - crores) Dollar denominated Euro denominated Other currencies denominated ERV will be payable/refundable depending upon movement of exchange rate with reference to exchange rate adopted for the valuation of the contract. Base exchange rate of each major currency used for calculating FE content of the contract will be the BC Selling rate of the State Bank of India on the date of the opening of Price Bids. The base date for ERV would be contract date and variation on the base date will be given upto the midpoint manufacture unless Bidder indicates the time schedule within which material will be exported by them. Based on information given above, the cut off date/dates within the Delivery schedule for the imported material will be fixed for admissibility of ERV. ERV clause will not be applicable in case delivery periods for imported content are subsequently to be refixed /extended. The impact of notified Exchange Rate Variation shall be computed on an yearly basis for the outflow as mentioned by the vendor in their tender and shall be paid / refunded before the end of the financial year based on the certification of the Buyer. Risk & Expense clause – Should the stores or any installment thereof not be delivered within the time or times specified in the contract documents, or if defective delivery is made in respect of the stores or any installment thereof, the Buyer shall after granting the Seller 45 days to cure the breach, be at liberty, without prejudice to the right to recover liquidated damages as a remedy for breach of contract, to declare the contract as cancelled either wholly or to the extent of such default. Should the stores or any installment thereof not perform in accordance with the specifications / parameters provided by the SELLER during the check proof tests to be done in the BUYER’s country, the BUYER shall be at liberty,\n",
      "(No of days) in advance to apply for the necessary authorisations and clearances to be granted. The Buyer reserves the right not to attend the PDI or to request for postponement of the beginning of the PDI by a maximum of fifteen (15) days from the date fixed for such PDI in order to allow his representative(s) to attend such tests, in which cases he shall inform in writing the Seller within 15 days before the date of the beginning of the PDI. Should the Buyer request for such postponement, liquidated damages, if any, shall not apply. In case the Buyer informs the Seller within the period mentioned hereinabove that he cannot attend the PDI or in case the Buyer does not come at the postponed date requested by him for performance of the PDI as mentioned above, the Seller shall be entitled to carry out said tests alone as scheduled. The Certificate of Conformity and the Acceptance Test Report will be signed by the Seller’s QA representative alone and such documents bearing the sole signature of the Seller’s QA representative shall have the same value and effect as if they have been signed by both the parties. In case Buyer does not elect to attend the PDI, the Buyer shall intimate the Seller in writing that it does not wish to attend the PDI. The Seller shall provide all reasonable facilities, access and assistance to the Buyer’s representative for safety and convenience in the performance of their duties in the Seller’s country. All costs associated with the stay of the Buyer’s Representative(s) in the country where the PDI is to be carried out, including travel expenses, boarding and lodging, accommodation, daily expenses, shall be borne by the Buyer. The Seller shall provide Acceptance Test Procedure to the Buyer’s QA Agency within one month from the signing of the Contract. Joint Receipt Inspection: The following Joint Receipt Inspection clause will form part of the contract placed on successful Bidder – The Parties agree that the Joint Receipt Inspection (JRI) of delivered goods shall be conducted on arrival in India at location to be nominated by the Buyer. JRI shall be completed within 120 days (for armament/ammunition)/ 90 days (for other than armament/ammunition) of arrival of good at the Port Consignee. JRI will consist of Quantitative checking to verify that the quantities of the delivered goods correspond to the quantities defined in this contract and the invoices. Complete functional checking of the stores/equipment as per specifications in the contract and as per procedures and tests laid down by Buyer but functional checking of spares shall not be done. Check proof and firing, if required. JRI will be carried out by the Buyer’s representative(s). The Buyer will invite the Seller with a prior notice of a minimum of fifteen (15) days to attend the JRI for the delivered goods. The Seller shall have the right not to attend the JRI. The bio data of the Seller’s representative will need to be communicated fifteen (15) days prior to the despatch of goods to the Buyer\n",
      "of Corruption Act, 1986 or any other Act enacted for the prevention of corruption shall entitle the Buyer to cancel the Supply Order and all or any other Supply Orders with the Seller and recover from the Seller the amount of any loss arising from such cancellation. A decision of the Buyer or his nominee to the effect that a breach of the undertaking had been committed shall be final and binding on the Seller. Giving or offering of any gift, bribe or inducement or any attempt at any such act on behalf of the Seller towards any officer/employee of the Buyer or to any other person in a position to influence any officer/employee of the Buyer for showing any favour in relation to this or any other Supply Order, shall render the Seller to such liability/ penalty as the Buyer may deem proper, including but not limited to termination of the Supply Order, imposition of penal damages, forfeiture of the Bank Guarantee and refund of the amounts paid by the Buyer. Agents / Agency Commission: The Seller confirms and declares to the Buyer that the Seller is the original manufacturer of the stores/provider of the services referred to in this Supply Order and has not engaged any individual or firm, whether Indian or foreign whatsoever, to intercede, facilitate or in any way to recommend to the Government of India or any of its functionaries, whether officially or unofficially, to the award of the Supply Order to the Seller; nor has any amount been paid, promised or intended to be paid to any such individual or firm in respect of any such intercession, facilitation or recommendation. The Seller agrees that if it is established at any time to the satisfaction of the Buyer that the present declaration is in any way incorrect or if at a later stage it is discovered by the Buyer that the Seller has engaged any such individual/firm, and paid or intended to pay any amount, gift, reward, fees, commission or consideration to such person, party, firm or institution, whether before or after the signing of this Supply Order, the Seller will be liable to refund that amount to the Buyer. The Seller will also be debarred from entering into any supply Supply Order with the Government of India for a minimum period of five years. The Buyer will also have a right to consider cancellation of the Supply Order either wholly or in part, without any entitlement or compensation to the Seller who shall in such an event be liable to refund all payments made by the Buyer in terms of the Supply Order along with interest at the rate of 2% per annum above LIBOR rate. The Buyer will also have the right to recover any such amount from any Supply Orders concluded earlier with the Government of India. Access to books of Accounts: In case it is found to the satisfaction of the Buyer that the Seller has engaged an Agent or paid commission or influenced any person to obtain the Supply Order as described\n",
      "in clauses relating to Agents/Agency Commission and penalty for use of undue influence, the Seller, on a specific request of the Buyer, shall provide necessary information/ inspection of the relevant financial documents/information. Non-disclosure of Supply Order documents: Except with the written consent of the Buyer/Seller, other party shall not disclose the Supply Order or any provision, specification, plan, design, pattern, sample or information thereof to any third party. Liquidated damages: In the event of the Seller's failure to submit the Bonds, Guarantees and Documents, supply the stores/goods and conduct trials, installation of equipment, training, etc as specified in this Supply Order, the Buyer may, at his discretion, withhold any payment until the completion of the Supply Order. The Buyer may also deduct from the Seller as agreed, Liquidated Damages to the sum of 0.5% of the Supply Order price of the delayed/undelivered stores/services mentioned above for every week of delay or part of a week, subject to the maximum value of the Liquidated Damages being not higher than 10% of the value of delayed stores. Termination of the Supply Order: The Buyer shall have the right to terminate this Supply Order in part or in full in any of the following cases :- The delivery of the material is delayed for causes not attributable to Force Majeure for more than ( months) after the scheduled date of delivery. The Seller is declared bankrupt or becomes insolvent. The delivery of material is delayed due to causes of Force Majeure by more than ( months). The Buyer has noticed that the Seller has utilised the services of any Indian/Foreign agent in getting this Supply Order and paid any commission to such individual/company etc. As per decision of the Arbitration Tribunal. Notices: Any notice required or permitted by the Supply Order shall be written in the English language and may be delivered personally or may be sent by FAX or registered pre-paid mail/airmail, addressed to the last known address of the party to whom it is sent. Transfer and sub-letting: The Seller has no right to give, bargain, sell, assign or sublet or otherwise dispose of the Supply Order or any part thereof, as well as to give or to let a third party take benefit or advantage of the present Supply Order or any part thereof. Patents and Other Industrial Property Rights: The prices stated in the present Supply Order shall be deemed to include all amounts payable for the use of patents, copyrights, registered charges, trademarks and payments for any other industrial property rights. The Seller shall indemnify the Buyer against all claims from a third party at any time on account of the infringement of any or all the rights mentioned in the previous paragraphs, whether such claims arise in respect of manufacture or use. The Seller shall be responsible for the completion of the supplies including spares, tools, technical literature and training aggregates irrespective of the fact of infringement of the supplies, irrespective of the fact of infringement of any or all the rights mentioned above. Amendments: No provision of present\n",
      "mentioned by the Seller in their tender and shall be paid / refunded before the end of the financial year based on the certification of the Buyer. Risk & Expense clause – Should the stores or any installment thereof not be delivered with the time or time specified in the contract documents, or it defective delivery is made in respect of the stores or any installment thereof, the Buyer shall after granting the Seller 45 days to cure the breach, be at liberty, without prejudice to the right to recover liquidated damages as a remedy for breach of contract, to declare the contract as cancelled either wholly or to the extent of such default. Should the stores or any installment thereof not perform in accordance with the specifications / parameters provided by the SELLER during the check proof tests to be one in the BUYER’s country, the BUYER shall be at liberty, without prejudice to any other remedies for breach of contract, to cancel the contract wholly or to the extent of such default. In case of a material breach that was not remedied within 45 days, the BUYER shall, having given the right of first refusal to the SELLER be at liberty to purchase, manufacture, or procure from any other source as he things fit other stores of the same or similar description to make good:- Such default. In the event of the contract being wholly determined the balance of the stores remaining to be delivered thereunder. Any excess of the purchase price, cost of manufacturer, or value of any stores procured from any other supplier as the case may be, over the contract price appropriate to such default or balance shall be recoverable from the SELLER. Such recoveries shall not exceed % of the value of the contract.” Buy-Back offer - Buyer will be hand over the old items and the agreed prices will be adjusted in the final payment to the Seller. It will be the responsibility of Seller to carry away the old items from the Buyer’s premises within 15 days of signing of this Supply Order. The expenditure on account of Handling charges and transportation expenses to carry away the old items will be borne by the Seller. Force Majeure: Should any Force Majeure circumstances arise, each of the contracting party shall be excused for the non-fulfilment or for the delayed fulfilment of any of its contractual obligations, if the affected party within ( days) of its occurrence informs the other party in writing. Force Majeure shall mean fires, floods, natural disasters or other acts, that are unanticipated or unforeseeable, and not brought about at the instance of the party claiming to be affected by such event, or which, if anticipated or foreseeable, could not be avoided or provided for, and which has caused the non-performance or delay in performance, such as war, turmoil, strikes, sabotage, explosions, quarantine restriction beyond the control of either party. A party claiming Force Majeure shall exercise reasonable diligence to seek to overcome the Force Majeure event and to mitigate the effects\n",
      "of the stores delivered according to the present Supply Order shall correspond to the technical conditions and standards valid for the deliveries of the same stores for in Seller’s country or specifications enumerated as per RFP and shall also include therein modification to the stores suggested by the Buyer. Such modifications will be mutually agreed to. The Seller confirms that the stores to be supplied under this Supply Order shall be new i.e. not manufactured before (Year of Supply Order), and shall incorporate all the latest improvements and modifications thereto and spares of improved and modified equipment are backward integrated and interchangeable with same equipment supplied by the Seller in the past if any. The Seller shall supply an interchangeability certificate along with the changed part numbers wherein it should be mentioned that item would provide as much life as the original item. Quality Assurance: After the Supply Order is finalized, the Seller would be required to provide the Standard Acceptance Test Procedure (ATP). Buyer reserves the right to modify the ATP. Seller would be required to provide all test facilities at his premises for acceptance and inspection by Buyer. The item should be of the latest manufacture, conforming to the current production standard and having 100% defined life at the time of delivery. Inspection Authority: The Inspection will be carried out by The mode of Inspection will be Departmental Inspection / User Inspection / Joint Inspection / Self-certification. Pre-Dispatch Inspection – The Buyer’s representatives will carry out Pre-Despatch Inspection (PDI) of the stores/equipment in order to check their compliance with specifications in accordance with its usual standard procedures. Upon successful completion of such PDI, the Seller and Buyer will issue and sign a Certificate of Conformity as per the specimen at Form DPM-21 enclosed as part of Part-IV. The Seller shall intimate the Buyer at least 45 days before the scheduled date of PDI. The time required for completing visa formalities by the Seller should not be included in this notice. The Buyer will send his authorised representative(s) to attend the PDI. The list of Buyer’s representatives together with their particulars including name, title, date and place of birth, passport numbers including date of issue and date of expiry, address, etc. must be communicated by the Buyer at least (No of days) in advance to apply for the necessary authorisations and clearances to be granted. The Buyer reserves the right not to attend the PDI or to request for postponement of the beginning of the PDI by a maximum of fifteen (15) days from the date fixed for such PDI in order to allow his representative(s) to attend such tests, in which cases he shall inform in writing the Seller within 15 days before the date of the beginning of the PDI. Should the Buyer request for such postponement, liquidated damages, if any, shall not apply. In case the Buyer informs the Seller within the period mentioned hereinabove that he cannot attend the PDI or in case the Buyer does not come at the postponed date requested by him for performance\n",
      "Contract shall be settled by bilateral discussions. Any dispute, disagreement or question arising out of or relating to the Contract or relating to construction or performance, which cannot be settled amicably, may be resolved through arbitration. The Arbitration is as per Form DPM-7 / DPM-8 / DPM-9 enclosed to Part-III of this contract. Penalty for use of Undue influence: The Seller undertakes that he has not given, offered or promised to give, directly or indirectly, any gift, consideration, reward, commission, fees, brokerage or inducement to any person in service of the Buyer or otherwise in procuring the Contracts or forbearing to do or for having done or forborne to do any act in relation to the obtaining or execution of the present Contract or any other Contract with the Government of India for showing or forbearing to show favour or disfavour to any person in relation to the present Contract or any other Contract with the Government of India. Any breach of the aforesaid undertaking by the Seller or any one employed by him or acting on his behalf (whether with or without the knowledge of the Seller) or the commission of any offers by the Seller or anyone employed by him or acting on his behalf, as defined in Chapter IX of the Indian Penal Code, 1860 or the Prevention of Corruption Act, 1986 or any other Act enacted for the prevention of corruption shall entitle the Buyer to cancel the contract and all or any other contracts with the Seller and recover from the Seller the amount of any loss arising from such cancellation. A decision of the Buyer or his nominee to the effect that a breach of the undertaking had been committed shall be final and binding on the Seller. Giving or offering of any gift, bribe or inducement or any attempt at any such act on behalf of the Seller towards any officer/employee of the Buyer or to any other person in a position to influence any officer/employee of the Buyer for showing any favour in relation to this or any other contract, shall render the Seller to such liability/ penalty as the Buyer may deem proper, including but not limited to termination of the contract, imposition of penal damages, forfeiture of the Bank Guarantee and refund of the amounts paid by the Buyer. Agents / Agency Commission: The Seller confirms and declares to the Buyer that the Seller is the original manufacturer of the stores/provider of the services referred to in this Contract and has not engaged any individual or firm, whether Indian or foreign whatsoever, to intercede, facilitate or in any way to recommend to the Government of India or any of its functionaries, whether officially or unofficially, to the award of the contract to the Seller; nor has any amount been paid, promised or intended to be paid to any such individual or firm in respect of any such intercession, facilitation or recommendation. The Seller agrees that if it is established at any time to the satisfaction of the Buyer that the present declaration\n",
      "is in any way incorrect or if at a later stage it is discovered by the Buyer that the Seller has engaged any such individual/firm, and paid or intended to pay any amount, gift, reward, fees, commission or consideration to such person, party, firm or institution, whether before or after the signing of this contract, the Seller will be liable to refund that amount to the Buyer. The Seller will also be debarred from entering into any supply Contract with the Government of India for a minimum period of five years. The Buyer will also have a right to consider cancellation of the Contract either wholly or in part, without any entitlement or compensation to the Seller who shall in such an event be liable to refund all payments made by the Buyer in terms of the Contract along with interest at the rate of 2% per annum above LIBOR rate. The Buyer will also have the right to recover any such amount from any contracts concluded earlier with the Government of India. Access to books of Accounts: In case it is found to the satisfaction of the Buyer that the Seller has engaged an Agent or paid commission or influenced any person to obtain the contract as described in clauses relating to Agents/Agency Commission and penalty for use of undue influence, the Seller, on a specific request of the Buyer, shall provide necessary information/ inspection of the relevant financial documents/information. Non-disclosure of Contract documents: Except with the written consent of the Buyer/Seller, other party shall not disclose the contract or any provision, specification, plan, design, pattern, sample or information thereof to any third party. Liquidated damages: In the event of the Seller's failure to submit the Bonds, Guarantees and Documents, supply the stores/goods and conduct trials, installation of equipment, training, etc as specified in this contract, the Buyer may, at his discretion, withhold any payment until the completion of the contract. The Buyer may also deduct from the Seller as agreed, Liquidated Damages to the sum of 0.5% of the contract price of the delayed/undelivered stores/services mentioned above for every week of delay or part of a week, subject to the maximum value of the Liquidated Damages being not higher than 10% of the value of delayed stores. Termination of the contract: The Buyer shall have the right to terminate this Contract in part or in full in any of the following cases :- The delivery of the material is delayed for causes not attributable to Force Majeure for more than ( delivery. months) after the scheduled date of The Seller is declared bankrupt or becomes insolvent. The delivery of material is delayed due to causes of Force Majeure by more than ( months). The Buyer has noticed that the Seller has utilised the services of any Indian/Foreign agent in getting this contract and paid any commission to such individual/company etc. As per decision of the Arbitration Tribunal. Notices: Any notice required or permitted by the contract shall be written in the English language and may be delivered personally or may\n",
      "upon movement of exchange rate with reference to exchange rate adopted for the valuation of the contract. Base exchange rate of each major currency used for calculating FE content of the contract will be the BC Selling rate of the State Bank of India on the date of the opening of Price Bids. The base date for ERV would be contract date and variation on the base date will be given upto the midpoint manufacture unless Seller indicates the time schedule within which material will be exported by them. Based on information given above, the cut off date/dates within the Delivery schedule for the imported material will be fixed for admissibility of ERV. ERV clause will not be applicable in case delivery periods for imported content are subsequently to be refixed /extended. The impact of notified Exchange Rate Variation shall be computed on an yearly basis for the outflow as mentioned by the Seller in their tender and shall be paid / refunded before the end of the financial year based on the certification of the Buyer. Risk & Expense clause – Should the stores or any installment thereof not be delivered with the time or time specified in the contract documents, or it defective delivery is made in respect of the stores or any installment thereof, the Buyer shall after granting the Seller 45 days to cure the breach, be at liberty, without prejudice to the right to recover liquidated damages as a remedy for breach of contract, to declare the contract as cancelled either wholly or to the extent of such default. Should the stores or any installment thereof not perform in accordance with the specifications / parameters provided by the SELLER during the check proof tests to be one in the BUYER’s country, the BUYER shall be at liberty, without prejudice to any other remedies for breach of contract, to cancel the contract wholly or to the extent of such default. In case of a material breach that was not remedied within 45 days, the BUYER shall, having given the right of first refusal to the SELLER be at liberty to purchase, manufacture, or procure from any other source as he things fit other stores of the same or similar description to make good:- Such default. In the event of the contract being wholly determined the balance of the stores remaining to be delivered thereunder. Any excess of the purchase price, cost of manufacturer, or value of any stores procured from any other supplier as the case may be, over the contract price appropriate to such default or balance shall be recoverable from the SELLER. Such recoveries shall not exceed % of the value of the contract.” Buy-Back offer - Buyer will be hand over the old items and the agreed prices will be adjusted in the final payment to the Seller. It will be the responsibility of Seller to carry away the old items from the Buyer’s premises within 15 days of signing of this contract. The expenditure on account of Handling charges and transportation expenses to carry\n",
      "Buyer reserves the right not to attend the PDI or to request for postponement of the beginning of the PDI by a maximum of fifteen (15) days from the date fixed for such PDI in order to allow his representative(s) to attend such tests, in which cases he shall inform in writing the Seller within 15 days before the date of the beginning of the PDI. Should the Buyer request for such postponement, liquidated damages, if any, shall not apply. In case the Buyer informs the Seller within the period mentioned hereinabove that he cannot attend the PDI or in case the Buyer does not come at the postponed date requested by him for performance of the PDI as mentioned above, the Seller shall be entitled to carry out said tests alone as scheduled. The Certificate of Conformity and the Acceptance Test Report will be signed by the Seller’s QA representative alone and such documents bearing the sole signature of the Seller’s QA representative shall have the same value and effect as if they have been signed by both the parties. In case Buyer does not elect to attend the PDI, the Buyer shall intimate the Seller in writing that it does not wish to attend the PDI. The Seller shall provide all reasonable facilities, access and assistance to the Buyer’s representative for safety and convenience in the performance of their duties in the Seller’s country. All costs associated with the stay of the Buyer’s Representative(s) in the country where the PDI is to be carried out, including travel expenses, boarding and lodging, accommodation, daily expenses, shall be borne by the Buyer. The Seller shall provide Acceptance Test Procedure to the Buyer’s QA Agency within one month from the signing of the Contract. Joint Receipt Inspection: The Parties agree that the Joint Receipt Inspection (JRI) of delivered goods shall be conducted on arrival in India at location to be nominated by the Buyer. JRI shall be completed within 120 days (for armament/ammunition)/ 90 days (for other than armament/ammunition) of arrival of good at the Port Consignee. JRI will consist of Quantitative checking to verify that the quantities of the delivered goods correspond to the quantities defined in this contract and the invoices. Complete functional checking of the stores/equipment as per specifications in the contract and as per procedures and tests laid down by Buyer but functional checking of spares shall not be done. Check proof and firing if required. JRI will be carried out by the Buyer’s representative(s). The Buyer will invite the Seller with a prior notice of a minimum of fifteen (15) days to attend the JRI for the delivered goods. The Seller shall have the right not to attend the JRI. The bio data of the Seller’s representative will need to be communicated fifteen (15) days prior to the despatch of goods to the Buyer for obtaining necessary security clearance in accordance with the rules applicable in the Buyer’s country. Upon completion of each JRI, JRI proceedings and Acceptance will be signed by both the parties. In case the\n",
      "discount, IF ANY, in the amount mentioned in (a) & (b) for the Total scope of DL No. 0023) Specify cost of all spares required for completion of the scope of each DL, as applicable 0024 Five Gyro Motor Units to be overhauled Rs. X Rs A (Indicate clearly discount, IF ANY, in the amount mentioned in (a) for the Total scope of DL No. 0024) PAGE 298 Enclosure VI of RFP (SAMPLE) SUMMARY SHEET FOR COSTING / QUOTATION Ser Description of Work/Service Material/Spares/Tax Rate (in Rs) Cost of all services indicated in the SOR Cost of repair part of SOW in the SOR Hull Work Package Engineering Work Package (c) Electrical work Package Weapon Work Package Cost of spares and material included in ser 2(a) to (d) Cost of all other Services in the SOR (not covered under ser 1 and 2 including OEM charges etc) Service Tax on ser 1, 2 and 3, excluding 2 (e) Works Contract Tax (if applicable on ser 1,2, and 3) Cost of Yard Materials Budgetary Cost of Spares VAT/Sales Tax applicable on ser 6 and 7 Octroi/other local levies applicable on ser 6 and 7 Customs Duty/Amount of Customs Duty for which Exemption is sought on ser 6 and 7 Excise Duty/Amount of Excise Duty for which Exemption is sought on ser 6 and 7 Miscellaneous (not included in any of the serial above) Applicable Tax/Duty/Levies on ser 12 Grand Total (ser 1 to 13) Grand Total (excluding ser 10, and 11) Note: The Budgetary cost of Anticipatory Spares may be forwarded by the bidder separately, if the bidder opines that the same are required for completion of SOW. However, the same shall not be considered for determination of L-1 APPENDIX ‘H’ STANDARD CONDITIONS OF CONTRACT FOR PARTIAL/COMPLETE REFIT/ REPAIRS OF SHIPS/SUBMARINES/MARINE AND SERVICE ASSETS (Forms an integral part of the Contract, to be sent as Enclosure III of RFP) TABLE OF CONTENTS ARTICLE NO. DESCRIPTION ARTICLE 1 - ARTICLE 2 - ARTICLE 3 - ARTICLE 4 - ARTICLE 5 - ARTICLE 6 - ARTICLE 7 - ARTICLE 8 - ARTICLE 9 - ARTICLE 10 - ARTICLE 11 - ARTICLE 12 - ARTICLE 13 - ARTICLE 14 - ARTICLE 15 - ARTICLE 16 - DEFINITION AND ABBREVIATION EFFECTIVE DATE AND OPERATION OF CONTRACT SCOPE OF CONTRACT CONTRACT PRICE AND TERMS OF PAYMENT TAXES AND DUTIES ADVANCE BANK GUARANTEE PERFORMANCE BOND DURATION AND DELIVERY LIQUIDATED DAMAGES RISK AND EXPENSE CLAUSE QUALITY AND INSPECTION WARRANTY & WARRANTY BOND GENERAL TERMS AND CONDITIONS INDEMNITY & INSURANCE SECURITY FORCE MAJEURE ARTICLE 17 - TERMINATION OF CONTRACT ARTICLE 18 - LAW ARTICLE 19 - ARBITRATION ARTICLE 20 - PENALTY FOR USE OF UNDUE INFLUENCE ARTICLE 21 - AGENTS/AGENCY COMMISSION ARTICLE 22 - NON DISCLOSURE OF CONTRACT DOCUMENTS ARTICLE 23 - NOTICES ARTICLE 24 - AMENDMENTS ARTICLE 25 - NOTICES & COMMUNICATIONS ARTICLE 26 - INTERPRETATION ARTICLE 27 - SIGNATURE AND WITNESSING BY PARTIES ARTICLE TO 40 28 - SPARE (ARTICLES such as \"PROVISION OF SERVICES BY CUSTOMER/CONTRACTOR\", \"UTILISATION OF CUSTOMER'S FACILITIES BY CONTRACTOR\", \"THIRD PARTY INSPECTION\", \"APPROVAL OF DRAWINGS,\n",
      "CONTRACTOR shall reinstall the same as per drawings, amendments thereto and to the satisfaction of the CUSTOMER. All work associated with this Article forms an integral part of Scope of Work specified in Article 3.2. Electrical cables in way of repairs, if required, are to be covered adequately for protection against accidental mechanical / fire damage, by the CONTRACTOR. Damages caused during the execution of the work by the CONTRACTOR or his Sub Contractors are to be made good by the CONTRACTOR at his cost. All pipe lines, machinery, equipment and fittings which are not required to be taken out of the Ship are to be properly covered / secured to ensure they are not damaged during the course of the refit. Damages caused during the execution of the work by the CONTRACTOR or his Sub Contractors are to be made good by the CONTRACTOR at his cost. Change in Scope of Work Notwithstanding the scope of work specified in Article 3.2 and 3.3.1, the CUSTOMER shall have the right to modify the Scope of Work during the execution of the Contract. The necessity for repairs/ renewals/replacements other than those presently included in the Scope of Work may arise during the inspection/survey/repair. All such work as also consequential work (rework) required to be done by the CONTRACTOR along with work arising out of items/drawings supplied by the CUSTOMER shall be treated as Scope of Work. Such changes in the scope of work and the cost and time implications thereof shall be mutually agreed upon on priority, in writing, before undertaking such changes in the scope of work. The resultant increase in cost as well as any extension in project duration will be intimated by the CONTRACTOR and shall be agreed and accepted by the CUSTOMER through mutual negotiations prior to undertaking such changes in Scope of Work. Format for promulgating of Change in Scope of Work is placed at Annex –3 of this Contract. In case promulgation of such change in Scope of Work affects the Initial Scope of Work as per Article 3.2 and 3.3 and/or additional Scope of Work as per article 3.4.1, the cost and time implications due to such changes, shall also be taken in to consideration by both the Parties, while promulgating the change in Scope of work in accordance with Article 3.3. Procurement of Material by the CONTRACTOR A list of items procured, indicating landed cost which includes cost of materials, freight, insurance, packing/forwarding taxes, duties, clearing charges etc. together with handling charge of [not exceeding 7.5% (Seven point Five percent)] will be furnished along with the bill raised by the CONTRACTOR on the basis of Third Party Invoice. All material and items procured by the CONTRACTOR for Scope of Work, except where specifically indicated that such items are CUSTOMER supplied, are to conform to the relevant approved and applicable specification (in accordance with Article 10). Return of Unused Materiel. All Ferrous scrap arising out of repairs shall be the property of CONTRACTOR. However, non-ferrous scraps/equipments shall be the property of the CUSTOMER. Sub-Contracting. The CONTRACTOR\n",
      "State authorities, as applicable at prevailing rates under the extant Government policy for all Materials and services procured by the CONTRACTOR for the Scope of Work. Any increase on rates during the period of contract shall be paid extra at the time of invoicing. The same shall be reimbursed by the CUSTOMER to the CONTRACTOR at actuals on submission of documentary proof of payment. The CUSTOMER reserves the right to deny any increase in taxes, duties, levies, etc. if the delivery period is extended beyond the period specified in Article 8.1.1. Contract Operating Authority or his nominated representative shall issue appropriate tax exemption/concession certificate(s) on behalf of the CUSTOMER, to avail tax exemption/ concession, where applicable, as per existing Government policy, rules and regulations in force. 5.2 “END USER” CERTIFICATE. Contract Operating Authority or his nominated representative shall issue the appropriate “End User Certificate” on behalf of the CUSTOMER, for import of material and services, wherever required by the concerned manufacturer /supplier of equipment material and services / governmental agency. ARTICLE 6 ADVANCE BANK GUARANTEE (As per Form DPM-16) ARTICLE 7 PERFORMANCE BOND (As per Form DPM-15) ARTICLE 8 DURATION OF THE DELIVERY Duration of Work The CONTRACTOR shall complete his scope of work specified in Article 3.1 and 3.2 in (duration in months/days/date for completion of Scope of Work) from the Effective date specified in Article 2.1. Delivery by the CONTRACTOR shall be treated as complete on satisfactory HATs/SATs and upon signing of Delivery Acceptance Certificate ( applicable in the case of complete Refit/Repairs of Ships/ Submarines only) OR Completion of Scope of Work and Trails ( applicable in case of Refit/Repairs of Yard/Service Assets and partial Refits of Ships / Submarines. The said duration of Refit specified in Article 8.1.1 may be extended on mutual agreement only, with the CUSTOMER shall accept the vessel/asset without imposition of any sort of Penalty / Reduction in Contract Price. Incomplete Work The CONTRACTOR and the CUSTOMER shall mutually agree on the quantum of incomplete and unsatisfactory work. Cost of such incomplete work shall be withheld, except where such incomplete work is not attributable to the CONTRACTOR. Payment thus withheld will be made on completion of such incomplete work, which should in any case be completed within days (to be indicated in the RFP). If such work is incomplete beyond the specified date, the same shall be deleted from Scope of Work specified in Article 3.2 with corresponding amendment to Contract Price specified in Article 4.1. The CUSTOMER reserves the right to levy LD as per Article 9 on such incomplete work. The CONTRACTOR shall be paid for completion of work specified in Article 8.4.1 only on satisfactory completion and trials. ARTICLE 9 - LIQUIDATED DAMAGES 9.1 The CONTRACTOR shall be liable to pay to the CUSTOMER Liquidated Damages (LD), and not by way of Penalty, a sum equivalent to 0.5% (zero point five percent) of the unfinished/undelivered/unfulfilled part of Contract for each week of delay beyond duration of Work specified in Article 8.1, subject to a maximum of 10% (Ten percent) of the\n",
      "side racks etc. -do- 353 Artistic wooden furniture Rajasthan Small Industries Corpn. U.P. Export Corporation 354 Wooden paper weight, racks etc. -do- 355 Glass covers made of wood & grass jute -do- 356 Jute furniture West Bengal Handicrafts Dev. Corpn. Jute mfg. Development Corporation Orissa State Handicrafts Dev. Corpn. 357 Jute Bags, file cover -do- 358 Woollen & silk carpets U.P. Export Corporation, J&K Sale & Export Corporation. Form DPM-2 Purchase Preference Policy for Pharma CPSEs No. 50013/1/2006.S0(PI.IV) Government of India Ministry of Chemicals & Fertilizers . Department of Chemicals & Petrochemicals Shastri Bhavan, New Delhi 7th August. 2006 OFFICE MEMORENDUM Sub:- Purchase Preference Policy (PPP) for products of Pharma Central Public Sec Enterprises (CPSEs) and their subsidiaries The undersigned is directed to say that Government has decided to grant purchase preference exclusively to Phama CPSEs and their subsidiaries in respect of 102 medicines manufactured by them. The list of 102 medicines is enclosed. The salient features of PPP are as under: Purchase Preference Policy (PPP) in respect of a maximum of 102 medicines would be applicable to purchases made by Ministries I Departments, PSUs, Autonomous Bodies, etc. of the Central Government It would be valid for a period of five years. This would also be applicable to purchase of 102 drugs made by State. Governments under health programmes which are funded by Government of India. (e.g. purchases under National Rural Health Mission etc.) PPP will extend only to Phanna CPSEs and their subsidiaries ( i.e. where Pharma CPSEs own 51 % or above shareholding). It would be applicable to a maximum of 102 medicines. The list of 102 medicines would be reviewed and revised by Department of Chemicals & Petrochemicals as and when required taking care not to include any item reserved for SSI units. The Purchasing Departments I PSUs I autonomous bodies etc. of the Central Government may invite limited tenders from Pharma CPSEs and their subsidiaries or purchase directly from them at NPP A certified I notified price with a discount upto 35%. The purchasing departments would purchase from Pharma CPSEs and their subsidiaries subject to their meeting Good Manufacturing Practices (GMP) norms as per Schedule 'M' of the Drugs & Cosmetic Rules. If no Pharma CPSE is forthcoming to supply these 102 medicines, the purchasing departments would be at liberty to purchase from other Manufacturers. If the Pharma CPSEs or their subsidiaries which have the benefit of PPP, fail to perform as per the purchase order, they would be subject to payment of liquidated damages or any penalty included in the contract. The medicines covered under Drug & Price Control Order (DPCO) would be supplied at the ' 'rates fixed by National Pharmaceuticals Pricing Authority (NPPA) rates minus discount up to 35 per cent In case of medicines not covered under DPCO, prices would be got certified from NPPA, only for the limited purpose of supply to Central Government Departments and their Public Sector Undertakings, autonomous bodies etc. On the certified price, Pharma CPSEs and their subsidiaries would provide discount upto 35%. Pharma CPSEs and their subsidiaries would\n",
      "(date) ……………………………………………………………………………………………… The following documents are enclosed to this claim protocol to support the justification of the claim (photos, samples, results of analysis, packing sheets, etc.) Signature of the commission members ………………………………………………… ……………………………………………….. Form DPM-24 Format for TEC Report Para of RFP specifications Specification of Machine Offered Compliance of RFP specification : Whether Yes or No In case of Non- compliance the Deviation from RFP specification to be indicated in unambiguous terms 1 2 3 4 FORM DPM-25 COST ANALYSIS FORMAT Dept / Wing Break- Up of Fixed Price Quotation (Rs. in Lakhs) Appendix-I Produce Base Year of Quote Quantity: Sl No. Particulars Previous Year Rs. Year of Quote Rs. Remarks 1 1.1 MATERIAL Imported Raw Materials Rejection ( % on (i) Bought Out items Rejection ( % on (ii) Sub-total-1.1 1.2 Indigenous Raw Materials Rejection ( % on (i) Bought Out items Rejection ( % on (ii) iii)ATF Sub-total-1.2 Total – 1.1 + 1.2 1.3 Freight & Insurance Charges ( % of (1.1 + 1.2) 1.4 Storage & Handling Charges ( % of (1.1 + 1.2) Material Cost sub- Total-1 2 CONVERSION COST Manhours x MHR Sub-Total – 2 3 NON-RECURRING COST Sub-Total – 3 4 SUNDRY DIRECT CHARGES Sub-Total – 4 5 FINANCING COST Sub-Total 5 6 Total of Sub-totals (1 to 5) 7 Warranty Cost ( % of 6) 8. Total Cost (6+7) 9. Profit ( % of 8) 10. Selling Price (8+9) Form DPM-26 Model Amendment letter for Extension of Delivery Period for FOB/FAS/CIF Contract Registered Acknowledgement Due Address of the Buyer -------------------------------- -------------------------------- To M/s ……………………………….. ……………………………………… Subject : This office contract no……………….. dated placed on you for supply of …………………… Ref : Your letter no……………………………… dated ………………. Dear Sirs, You have failed to deliver the goods / entire quantity of the goods within the contract deliver period/delivery period as last extended up to . In your above referred letter, you have asked for extension/ further extension of time for delivery. In view of the circumstances stated in your above referred letter, the time of delivery is extended from (presently agreed delivery period). (last delivery period) to Please note that in terms of clause… of the contract, a sum equivalent to ……% (……… per cent) of the delivered price of the delayed goods for each week of delay or part thereof (subject to the ceiling as provided in the aforesaid clause) beyond the original contract delivery date/the last unconditionally re-fixed delivery date (as & if applicable) viz. will be recovered from you as liquidated damages. The above extension of delivery date will also be subject to the further condition that, notwithstanding any stipulation in the contract for increase in price on any ground, no such increase, whatsoever, which takes place after shall be admissible on such of the said goods as are delivered after the said date. But, nevertheless, the purchaser shall be entitled to the benefit of any decrease in price on any ground (including the impact of the price variation clause, if incorporated in the contract), which takes place after the expiry of the above\n",
      "mentioned date namely . You are also required to extend the validity period of the performance guarantee for the subject contract from ………… (present validity date) to …………. (required extended date) within fifteen days of issue of this amendment letter. Please intimate your unconditional acceptance of this amendment letter within ten days of the issue of this letter failing which the contract will be cancelled at your risk and expense without any further reference to you. All other terms & conditions of the contract remain unaltered. Yours faithfully, (… ) for and on behalf of……….. Copy to : ………………….. ………………….. ………………….. (Note - The entries which are not applicable for the case under consideration are to be deleted. Form DPM-27 Model Amendment letter for Extension of Delivery Period for Contract other than FOB/FAS/CIF Contract Registered Acknowledgement Due Address of the purchase office ------------------------------------- To M/s ……………………………….. Sub : This office contract no……………….. dated …………. placed on you for supply of ……………………….. Ref : Your letter no……………………………… dated ………………. Dear Sirs, You have failed to deliver the goods / entire quantity of the goods within the contract deliver period/delivery period as last extended up to . In your above referred letter, you have asked for extension/ further extension of time for delivery. In view of the circumstances stated in your above referred letter, the time of delivery is extended from (presently agreed delivery period). (last delivery period) to Please note that in terms of clause… of the contract, a sum equivalent to ……% (……… per cent) of the delivered price of the delayed goods for each week of delay or part thereof (subject to the ceiling as provided in the aforesaid clause) beyond the original contract delivery date/the last unconditionally re-fixed delivery date (as & if applicable) viz. will be recovered from you as liquidated damages. The above extension of delivery date will also be subject to the following further conditions:- That no increase in price on account of any statutory increase in or fresh imposition of custom duty, excise duty, sales tax or on account of any other tax or duty leviable in respect of the goods specified in the said contract, which take place after after the said date. shall be admissible on such of the said goods as delivered That notwithstanding any stipulation in the contract for increase in price on any ground, no such increase whatsoever, which takes place after shall be admissible on such of the said goods as are delivered after the said date. But nevertheless, the purchaser shall be entitled to the benefit of any decrease in price on account of reduction in or remission of custom duty, excise duty, sales tax or on account of any other tax or duty or any other ground whatsoever, including the impact of price variation clause (if incorporated in the contract), which takes place after the expiry of the above mentioned date namely . You are also required to extent the validity period of the performance guarantee for the subject contract from ……..(existing date) to (required extended date) within\n"
     ]
    }
   ],
   "source": [
    "# Ask a question and retrieve relevant contexts\n",
    "question = \"Liquidated Damages\"\n",
    "contexts = get_contexts_for_question(conn, cursor, question)\n",
    "\n",
    "print(\"Found \" + str(len(contexts) + \" Contexts\"))\n",
    "for context in contexts:\n",
    "    print(context)\n",
    "    print(\"--------------------------------------------\")"
   ]
  },
  {
   "cell_type": "code",
   "execution_count": 19,
   "metadata": {},
   "outputs": [],
   "source": [
    "from transformers import top_k_top_p_filtering\n",
    "import torch\n",
    "import torch.nn.functional as F\n",
    "\n",
    "def answer_question_using_context(model, tokenizer, context, question, max_length=150):\n",
    "    input_text = context + \" \" + question\n",
    "    input_ids = tokenizer.encode(input_text, return_tensors=\"pt\")\n",
    "    \n",
    "    generated_ids = input_ids.clone()\n",
    "    token_probs_list = []\n",
    "\n",
    "    with torch.no_grad():\n",
    "        for _ in range(max_length - len(input_ids[0])):\n",
    "            logits = model(generated_ids).logits[:, -1, :]\n",
    "            probs = F.softmax(logits, dim=-1)\n",
    "            next_token_logits = top_k_top_p_filtering(logits, top_k=50, top_p=0.95)\n",
    "            next_token = torch.multinomial(F.softmax(next_token_logits, dim=-1), num_samples=1)\n",
    "            generated_ids = torch.cat((generated_ids, next_token), dim=-1)\n",
    "            \n",
    "            # Get the token's probability and store\n",
    "            next_token_prob = probs[0, next_token.item()].item()\n",
    "            token_probs_list.append(next_token_prob)\n",
    "    \n",
    "    # Compute average confidence\n",
    "    confidence_score = sum(token_probs_list) / len(token_probs_list) if token_probs_list else 0\n",
    "    \n",
    "    answer = tokenizer.decode(generated_ids[0][len(input_ids[0]):], skip_special_tokens=True)\n",
    "\n",
    "    return answer, confidence_score"
   ]
  },
  {
   "cell_type": "code",
   "execution_count": 20,
   "metadata": {},
   "outputs": [
    {
     "name": "stdout",
     "output_type": "stream",
     "text": [
      "Context: The principles and procedures contained in this Manual are to be followed by all wings of the Ministry of Defence and the Defence Services, as well as all organizations and units/establishments thereunder, for procurement of goods and services, expenditure on account of which is met from the revenue heads of the Defence Services Estimates (DSE) and any other type of purchases to which the provisions are made specifically applicable.\n",
      "Answer:  The General Defence Regulations Act 1977 (\"The Defence Services Regulations\") states that a liquidated damages claim must be made by a person for any injury to a person resulting from a breach of the provisions of this Manual. This means that a person seeking to obtain a liquidated damages award must present proof of the injury to be\n",
      "Confidence Score: 0.3165\n",
      "\n",
      "-------------------------------------\n",
      "Context: The term procurement means acquiring all types of goods (both scaled and non-scaled), such as equipment, stores, spares, technical literature, etc., as well as all types of services, including packing, unpacking, preservation, transportation, insurance, delivery, special services, leasing, technical assessment, consultancy, systems study, software development, maintenance, updates, conservancy, etc.\n",
      "Answer:  Liquidated Damages is the amount of money (non-monetary) that can be recovered after a person is paid a debt as a result of a breach of contract. A breach of contract can either be a fault in the contract itself or an error in the contract. The person involved may choose to pay all the\n",
      "Confidence Score: 0.3524\n",
      "\n",
      "-------------------------------------\n",
      "Context: Authority Holding Sealed Particulars (AHSP): AHSP is the authority responsible for collecting, collating, developing, amending, updating, holding and supplying sealed particulars of the defence items in accordance with the laid down procedure. AHSP may be the Director General of Quality Assurance (DGQA) or an authority in the Service Headquarters for service specific items. Similar responsibility for the Naval and Air Force equipments rests with respective service headquarters. Ordnance Factories are the AHSP for certain types of ‘B’ vehicles and items issued to indentors, other than the defence services. DGAQA is the AHSP for aviation stores of all the Services and the Coast Guard. Procurement officers, the suppliers and the Inspection Agencies are required to comply with the specifications drawn up by the AHSP.\n",
      "Answer: \n",
      "Confidence Score: 0.0000\n",
      "\n",
      "-------------------------------------\n",
      "Context: Competent Financial Authority: The Competent Financial Authority (CFA) is an authority duly empowered by the Government of India to sanction and approve expenditure from public accounts upto a specified limit in terms of amount of such expenditure and subject to availability of funds. All financial powers are to be exercised by the appropriate CFA. Where financial powers have been delegated to more than one authority under the same Serial/Head, authority with higher delegated financial powers will constitute the ‘next higher CFA’.\n",
      "Answer:  Liquidated Damages means the monetary liability of an injured party arising out of any breach of contract or tort to which the injured party was not at any stage at a prior or subsequent date entitled to any of the\n",
      "Confidence Score: 0.3031\n",
      "\n",
      "-------------------------------------\n",
      "Context: Financial Power: Financial power is the power to approve expenditure to be incurred for bonafide purposes in accordance with the laid down procedure and subject to availability of funds. The powers delegated by the Ministry of Defence to various authorities in the Services Headquarters and other organizations/establishments under them, as also to authorities in other organizations under the Ministry of Defence, are personal and cannot be further sub-delegated to any subordinate authority by the delegatee. However, on the strict understanding that the sole responsibility rests on them, the authorities to which financial powers have been delegated may authorize staff officer(s) to sign communications and financial documents on their behalf provided that the name of the officer who is authorized to sign is communicated to the Audit Officer concerned.\n",
      "Answer: \n",
      "Confidence Score: 0.0000\n",
      "\n",
      "-------------------------------------\n",
      "Context: Indent:   An indent is a requisition placed by the provisioning authority on the procurement agency to procure an item. Indent is the authority for initiating procurement action and may contain one or more items, each with a distinct item code/part number. All necessary details of the item, including quantity, denomination, estimated price, specification, scope of supply, date by which required and inspection authority are to be indicated in the indent to enable prompt procurement of the item.\n",
      "Answer:  Liquidated damages in the course of proceedings are payments by the provisioning authority to the procurement agency after costs of making or disposing of a contract or other procurement are borne by the agency. The extent to which the contract or other procurement\n",
      "Confidence Score: 0.3571\n",
      "\n",
      "-------------------------------------\n",
      "Context: Not in Vocabulary (NIV): Items which are not in the vocabulary of stores, i.e., the items that have not been formally introduced and allotted a unique cat part number in the central approved list of inventory items of the concerned Service/Organization, as applicable.\n",
      "Answer:  Liquidated damages include: (1) all items and amounts of property damaged from a violation of section 12.60(a)(2) by the purchaser, including damages caused by nonauthorized service, fraud, negligence, or any other reason; (2) items damaged by fire or from any other nonauthorized service, fraud, negligence, or any other reason; (3) items damaged by misuse or negligence caused by the use of\n",
      "Confidence Score: 0.3641\n",
      "\n",
      "-------------------------------------\n",
      "Context: Conformity of the Manual with other Government Orders, etc.: The provisions contained in this Manual are in conformity with other Government manuals like the General Financial Rules, Financial Regulations (Defence Services Regulations), as also other instructions issued by the Government and the Central Vigilance Commission from time to time. If any instance of variance between the provisions of this Manual and other Government Manuals comes to notice, the matter should be immediately referred to the Ministry of Defence for clarification.\n",
      "Answer:  We have already mentioned that the Act is subject to the General Insurance Regulations which apply to the whole country, so that any claim which you should be entitled to, may not be lost or liquidated. The liquidation of the debt in question will be\n",
      "Confidence Score: 0.1905\n",
      "\n",
      "-------------------------------------\n",
      "Context: Validity of internal orders and instructions: Internal orders and instructions, including Standard Operating Procedures SOPs), issued by various Wings of the Ministry of Defence and the Services may be deemed to have been modified by the provisions of this Manual, to the extent the former are not in conformity with this Manual. This is necessary for ensuring uniformity among the purchase practices followed by various wings of the Ministry and the Services. The concerned Wings of the Ministry and Services may take necessary action to suitably modify their internal instructions and orders accordingly.\n",
      "Answer:  Liquidated damages, including punitive damages, as defined in the Liquidated Damages Regulations, include any monetary award or sum that is not a reasonable sum or value for money and that is not\n",
      "Confidence Score: 0.2827\n",
      "\n",
      "-------------------------------------\n",
      "Context: Applicability of the Manual to OFB and DRDO: Purchases made by the Ordnance Factories are regulated by the provisions of the Material Management and Procurement Manual, 2005. DRDO also follows the procedure laid down in the Purchase Manual, 2006. Ordnance Factories Board and the DRDO would take immediate steps to review the said Manuals and make necessary amendments, if required, to ensure that the provisions thereof are in conformity with the provisions of this Manual.\n",
      "Answer: \n",
      "\n",
      "1. Liquidated damages are the full amount of the amount of the property damaged, including but not limited to, the loss and damage resulting from the accident or in the event of a fault.\n",
      "\n",
      "2. Liquidated\n",
      "Confidence Score: 0.3699\n",
      "\n",
      "-------------------------------------\n",
      "Context: Fundamental Principles of Public Buying: Every authority delegated with the financial powers of procuring goods in public interest shall have the responsibility and accountability to bring efficiency, economy, transparency in matters relating to public procurement and for fair and equitable treatment of suppliers and promotion of competition in public procurement.\n",
      "Answer:  The government may liquidate an amount equal to the cost of repair, replacement or repair to the goods. How Much Does the Government Cost? The government may choose to recover any amount that has been incurred and that is not recoverable. In such cases, no recovery shall be allowed, the government shall pay the amount recovered. What are Public Goods Contracts? When a contract for goods is entered into, it becomes public. What are\n",
      "Confidence Score: 0.2504\n",
      "\n",
      "-------------------------------------\n",
      "Context: the specifications in terms of quality, type etc., as also quantity of goods to be procured, should be clearly spelt out keeping in view the specific needs of the procuring organizations. The specifications so worked out should meet the basic needs of the organization without including superfluous and non-essential features, which may result in unwarranted expenditure. Care should also be taken to avoid purchasing quantities in excess of requirement to avoid inventory carrying costs;\n",
      "Answer:  A liquidation damages claim can be established as follows : In the absence of a firm promise to pay liquidated damages, the parties are not permitted to sue each other as defendants. A claim for liquidated damages may be based upon the following: (i) the failure of\n",
      "Confidence Score: 0.3058\n",
      "\n",
      "-------------------------------------\n",
      "Context: offers should be invited following a fair, transparent and reasonable procedure;\n",
      "Answer:  The term \"Liquidated Damages\" is defined herein as any monetary loss or cost (including attorneys' fees) that you or a legal representative may suffer as a result of your participation in any legal proceeding initiated pursuant to this Agreement or any dispute, action, lawsuit or proceeding related to such action, including your inability to collect a monetary award because you failed to follow the applicable provisions of this Agreement or your legal representative's negligence or willful misconduct in furtherance of this Agreement. You should refer to the section titled \"Notice of Dispute & Lawsuits\" below before accepting this Agreement and prior to any legal proceedings or awards arising out of the matters\n",
      "Confidence Score: 0.3292\n",
      "\n",
      "-------------------------------------\n",
      "Context: Local Purchase in respect of items which are not supplied by the central procurement authority/ organizations of the Services / Departments and stores emergently required; and\n",
      "Answer:  Liquidated Damages are monetary damages for all reasonable expenses incurred in connection with the acquisition of property. What is the minimum total amount I should be providing on my account or account holders should have? Minimum Total Amount To Be Provided On Account (for the term of these Terms) for the Term to which these Terms apply Minimum Total Amount For the Term to which these Terms apply (if applicable): Purchase Amount (if applicable) for the goods, services and property purchased.\n",
      "\n",
      "Total Amount (if applicable) for the Goods, services, and property purchased: For the\n",
      "Confidence Score: 0.2947\n",
      "\n",
      "-------------------------------------\n",
      "Context: Economy: Purchases of stores must be made in the most economical manner and in accordance with the definite requirements of the defence Services. Stores should not be purchased in small quantities. Periodical indents should be prepared covering the requirement for one year or more, except where for reasons of short life or for other recorded reasons it is necessary to procure lesser quantities. Care should also be taken not to purchase stores much in advance of actual requirements, if such purchase is likely to prove unprofitable to the Government, and thus locking up of capital in stock should be minimized.\n",
      "Answer:  The liquidated damages are losses incurred by the Government in consequence of any cause beyond the control of the Departmental or Commercial Office. There is no\n",
      "Confidence Score: 0.3149\n",
      "\n",
      "-------------------------------------\n",
      "Context: Scales: Where scales of consumption or limits of stores have been laid down by the competent authority, the officer ordering a supply should certify on the purchase order/demands that the prescribed scales or limits are not exceeded.\n",
      "Answer:  An order for a liquidated damages (DL) is only binding if the person responsible for the loss is a manufacturer, distributor or retailer and the person responsible for the damage can prove that he or she has caused the loss, according to the appropriate rules of liability.\n",
      "\n",
      "How much do DLs apply? The maximum amount that the manufacturer, distributor or retailer is allowed to pay to the person who incurred the loss depends upon the circumstances of the claim and whether the claim was brought in one of\n",
      "Confidence Score: 0.3062\n",
      "\n",
      "-------------------------------------\n",
      "Context: Open competitive tendering: When stores are purchased from contractors, the system of open competitive tender should normally be the preferred mode, except where otherwise permissible under the rules and the purchase should be made from the lowest tenderer.\n",
      "Answer:  When a store gets sold it has three distinct outcomes. It gets liquidated by either the lender or the purchaser. Liquidation comes when the store goes out of business and the proceeds from that sale are transferred to the lender. Liquidation comes when it gets liquidated by the buyer as well as the borrower. Liquidation is the same as liquidation of the principal of the loan, but with three different consequences. It also does not apply to items bought for resale, like furniture, which\n",
      "Confidence Score: 0.2827\n",
      "\n",
      "-------------------------------------\n",
      "Context: Decentralization: With implementation of the New Management Strategy (NMS) in the three Services, the Government has decentralized decision- making process so as to enhance efficiency and expedite decision- making. The procurement function has also been decentralized and most of the defence organizations undertake bulk of the central procurement and local purchase themselves. While DGS&D continues to conclude Rate Contracts for supply of general use items, service specific items are being procured by the procurement agencies of the Service concerned. It must be ensured that all procurement officers meticulously follow the laid down procedures.\n",
      "Answer:  The DGS&D will decide how to determine damages for procurement items damaged. Such decision is being taken within a framework of contractual provision in the D\n",
      "Confidence Score: 0.1925\n",
      "\n",
      "-------------------------------------\n",
      "Context: Delegation of Powers: With the objective of decentralizing powers to enable effective use of resources by the actual operators, financial powers have been delegated to various authorities in the defence establishments down to the unit commanders. These powers are to be used within the framework of laid down procedures, cannons of financial propriety and amplificatory instructions. The powers so delegated also imply accountability and the CFAs must ensure that financial propriety and probity are observed in all cases.\n",
      "Answer:  The CFAs may be able to reduce liability by imposing an amount on the person liable. This is only applicable if the person breached any legal obligation. Liquidated damages are the same as in the Bankruptcy Law. The liability imposed is subject to\n",
      "Confidence Score: 0.2352\n",
      "\n",
      "-------------------------------------\n",
      "Context: all working expenses, including all expenditure on working and upkeep of the project and also on such renewals and replacements and such additions, improvements or extensions, etc., as under rules made by the Government are debitable to revenue account. The revenue procurement, therefore, implies procurement of items and equipments, including replacement equipment (functionally similar) assemblies/sub assemblies and components, to maintain and operate already sanctioned assets in the service, the necessity of which has been established and accepted by the Government. In the context of defence procurements, what would constitute revenue procurement is defined in Chapter 1 of this Manual\n",
      "Answer:  The Government's determination that the liability for non-performance of an expenditure for a period not longer than three years should\n",
      "Confidence Score: 0.2019\n",
      "\n",
      "-------------------------------------\n",
      "Context: Financial powers for procurement: For Revenue Procurement, Government has delegated financial powers under revenue heads to a number of authorities in each Service/Department. Procurements involving financial implications beyond the delegated powers of the Service HQrs and Heads of the ISOs are undertaken with the approval of the Ministry of Defence.\n",
      "Answer:  Liquidated Damages are damages arising out of procurement activities carried out by the Defence Acquisition Board (DAB). In a liquidated event, any payments to a recipient under a contract are reduced and paid directly to the recipient as a liquidated Damage under the contracts definition. What if the price of a particular item was higher than stated in the tender document? If it was stated in the tender document that\n",
      "Confidence Score: 0.3226\n",
      "\n",
      "-------------------------------------\n",
      "Context: Indigenous Procurement: Procurement from indigenous sources is called indigenous procurement. It is the policy of the Government to encourage indigenization, particularly in the field of defence to achieve self-reliance. Hence, indigenous firms should be given all support to produce and supply quality goods conforming to specifications. Proper loading criteria for all taxes, duties and other expenses involved in procurement of an item need to be applied to provide a level playing field to the indigenous manufacturers. Payments against indigenous procurement are made in rupee terms.\n",
      "Answer:  Liquidated damages are made available to Indian manufacturers for the cost of supplying the products of indigenous firms. The amount of liquidated damages available for the purchase of products of indigenous firms shall not\n",
      "Confidence Score: 0.3123\n",
      "\n",
      "-------------------------------------\n",
      "Context: Foreign Procurement (Import): For such defence equipments and assets, which are of foreign origin, items required to maintain and operate these equipments may also need to be procured from suppliers abroad. The procedure for such procurement is laid down in Chapters 9 and 10 of this Manual.\n",
      "Answer:  If a weapon falls into a category, the type of delivery, whether a non-contractual or a contract-based delivery, the specific defence item, the quantity of military hardware, the country where the goods originated, and the total value of the purchase price are entered into the balance of payments account in accordance with subsection (5) above. Where the balance exceeds certain limits, the value of the goods may require adjustment and\n",
      "Confidence Score: 0.2377\n",
      "\n",
      "-------------------------------------\n",
      "Context: To meet the short-term, ad-hoc or urgent requirements of units/ establishments when supplies are not available through the central\n",
      "Answer:  Liquidated Damages include all damages the landlord/occupier, company, business owner or any third party has caused to the property or property, including loss of profits, property value, damage to personal property and damages arising from any accident or cause not under management by the landlord/occupier. For example, if a tenant was using a locked garage and the landlord and tenant were arguing over whether it should be locked or unlocked, a liquidated damages claim can take place and the owner/occupier can obtain compensation for damage, or pay rent directly to the company. What are Special\n",
      "Confidence Score: 0.2702\n",
      "\n",
      "-------------------------------------\n",
      "Context: To meet the normal requirements of units/establishments for stores which are not within the purview of central purchase organizations.\n",
      "Answer:  Liquidated damages are the recovery by a creditor or consumer of any amount of money damages or interest due to a consumer for loss in or damage to property or for loss sustained by a person. What is a Collection Action? A collection action is an official proceeding initiated by a creditor or consumer agency after being discovered as a result of an action initiated by a private party. What is a Collected Settlement? A collection may be the result of an agreement between the creditor or consumer and a creditor or consumer agency. Why Does the Bank Have to File a Claim against my Store? The Bank can only file\n",
      "Confidence Score: 0.3021\n",
      "\n",
      "-------------------------------------\n",
      "Context: \"I,\t, am personally satisfied that these goods/services purchased are of the requisite quality and specification and have been purchased from a reliable supplier/service provider at a reasonable price.\"\n",
      "Answer: \n",
      "\n",
      "In liquidated damages cases, a plaintiff cannot recover for injury and illness or death caused by the same activity without a specific claim. That is because the person whose injuries and deaths caused a certain injury is not the same thing as the person who caused all of the damages. For instance, a driver may be injured for a car accident when the driver has been hit with another car, but does not receive any direct damages from the other driver. In a similar situation, a driver may have a broken toe, but can't\n",
      "Confidence Score: 0.2451\n",
      "\n",
      "-------------------------------------\n",
      "Context: \"Certified that we,\t, members of the local purchase committee are jointly and individually satisfied that the goods/services recommended for purchase are of the requisite specification and quality, priced at the prevailing market rate and the supplier recommended is reliable and competent to supply the goods in question.\"\n",
      "Answer: \n",
      "\n",
      "As of July 1, 2018, the state of Maine requires every company to assess a penalty charge to cover the cost of replacing the defective goods. The penalty for the replacement costs is based on the number of years the goods/services were defective. This means the rate of a deductible amount based on your company's sales volume does not apply, unless your company has the liability for the replacement costs from an insurance policy. For example\n",
      "Confidence Score: 0.2402\n",
      "\n",
      "-------------------------------------\n",
      "Context: Purchase of goods directly under Rate Contract: Goods for which Director General of Supply & Disposal (DGS&D) has rate contracts can be procured directly from the suppliers. While resorting to such procurement it should be ensured that the prices to be paid for the goods do not exceed those stipulated in the rate contract and the other salient terms and conditions of the purchase are in line with those specified in the rate contract. The Purchaser should also make its own arrangement for inspection and testing of such goods, where required. In the case of drugs, consumables, FOL, hygiene chemicals, etc. the inspection may be done by DGQA/NABL but any costs incurred thereon should be borne by the Suppliers. Payment in such cases would be made by the concerned Principal Controllers/Controllers of Defence Accounts, their subordinate offices or other paying authorities as per the existing arrangement. Wherever Senior Accounts Officers/Imprest Holders are authorized,\n",
      "Answer: \n",
      "Confidence Score: 0.0000\n",
      "\n",
      "-------------------------------------\n",
      "Context: Non-application of the provisions of this Manual: Provisions of this Manual will not be applicable in the case of procurements made under delegated financial powers of certain specified authorities in the Defence Services which are exercisable by them without IFA’s concurrence during period preparatory to war, hostilities, special operations, natural calamities and disasters. Provisions of this paragraph should be invoked only as and when the aforesaid eventualities are notified by the Government. Separate orders laying down the fast track procedure to be followed uniformly by the three Services would be laid down by the Ministry of Defence.\n",
      "Answer:  An act of the Government may be effective without the approval of the Council, except where an Act of Parliament declares or\n",
      "Confidence Score: 0.2015\n",
      "\n",
      "-------------------------------------\n",
      "Context: Cash and Carry Procurement: Cash and carry purchase is a type of LP (local purchase) resorted to in case of extreme urgency or when the supplier is not willing to supply the required item on credit. Cash and carry powers are very limited as such procurement is made only in exceptional cases when cash payment is made from the imprest of the unit and the same is claimed from the paying authority who reimburses the amount after due audit of the transaction.\n",
      "Answer:  In any case, a liquidated damage claim can be made through liquidated loss if damage is attributed to the supply of the product which the supplier has contracted for. Such damages can be awarded for the price of the product delivered (in the case of goods produced\n",
      "Confidence Score: 0.2421\n",
      "\n",
      "-------------------------------------\n",
      "Context: Local Purchase of Stationery and other articles from Kendriya Bhandar, NCCF, etc.: Keeping in view the avowed objectives of the co- operative movement to ensure supply of goods and services to the consumers at the most economical and competitive prices and taking note of the changed concepts of marketing, the Government of India vide DoP&T (Welfare Section) OM No. 14/12/94-Welfare (Vol II) dated 5th July 2007 (given in Form DPM-3) has decided to adopt the following dispensation in respect of all Central Government Departments, their attached and subordinate offices and other organizations financed and/or controlled by them in making local purchases of stationery and other items from Kendriya Bhandar/National Consumer Cooperatives Federation:\n",
      "Answer: \n",
      "Confidence Score: 0.0000\n",
      "\n",
      "-------------------------------------\n",
      "Context: 2.4.10 above. It is to be ensured that supply orders are not split under any\n",
      "Answer:  clause, particularly those affecting companies that cannot pay a proportionate share of liabilities (see Chapter 14) because their assets and liabilities are not equal.\n",
      "\n",
      "9.5.4 Where a liability arises to the extent that an interest charge against the asset's assets and liabilities is included within the liability, a payment of the charge by the debtor will not be affected by the agreement. It is preferable if the charge is due from a company that has an exclusive or exclusive right (including in respect of the sale of securities) to the asset's assets and liabilities. This is a matter for the debtor.\n",
      "\n",
      "9\n",
      "Confidence Score: 0.2395\n",
      "\n",
      "-------------------------------------\n",
      "Context: For procurement of all items of office   consumption   beyond Rs.1 lakh up to Rs 25 lakh, where limited tenders are to be invited as per the provisions of this Manual, KB and NCCF among others should also be\n",
      "Answer:  A liquidated Damages is a non-cumulative non-liquidated sum of any loss incurred by the party involved or any other person for the acts of the party. There is no limit on the amount of liquidated Damages payable in any single year by the Government. In general, a liquidated Damages is payable only as part of an installment contract, for example where no interest rate on a certain contract has been fixed, where the principal amount of the\n",
      "Confidence Score: 0.2820\n",
      "\n",
      "-------------------------------------\n",
      "Context: invited to participate in such limited tenders, in case these cooperatives are functioning at the station. Other things being equal, Purchase Preference will be granted to KB/NCCF, if the price quoted by the cooperatives is within 10% of the L1 price and if these cooperatives are willing to match the L1 price. No price preference over and above the L1 price shall be given to these cooperatives. However, KB/NCCF will be exempted from furnishing bid security (Earnest Money Deposit).\n",
      "Answer:  Liquidated Damages are payments that are being sent to the parties to a sale. When a contract is executed, the parties to a contract may assign certain rights to a\n",
      "Confidence Score: 0.2575\n",
      "\n",
      "-------------------------------------\n",
      "Context: Supply orders up to Rs. 25 lakh, in respect of office equipments covered under the DGS&D rate contract may also be procured from KB and NCCF provided KB/NCCF offer the items at DGS&D rate contracted prices as also fulfill all the contractual obligations which the manufacturers/suppliers of such products are required to meet under the DGS&D rate contract. The Purchaser will have to make his own arrangements for inspection and testing of such goods, where required.\n",
      "Answer:  Liquidated damages is a charge on a loan of money borrowed from a credit fund. The loan amount shall be credited to the Credit Fund or be deducted from any other loan amount. If the loan\n",
      "Confidence Score: 0.2171\n",
      "\n",
      "-------------------------------------\n",
      "Context: Other Multi-State Co-operative Societies registered prior to the issue of DoP&T (Welfare Section) OM No. 14/12/94-Welfare (Vol II) dated 5th July 2007 in which the majority of the shares are held by the Central Government, are also permitted to avail of the facility of Purchase Preference in respect of limited tender enquiries up to Rs. 25 lakh.\n",
      "Answer:  In the above mentioned transactions where shares were sold, the shares were purchased at market values of Rs. 10.50 for Rs. 15.60. With respect to such transactions, liquidated damages to the stockholders would have to be at least Rs. 25 lakh in addition to the purchase price\n",
      "Confidence Score: 0.3060\n",
      "\n",
      "-------------------------------------\n",
      "Context: Time Limit for Procurement & Accountability: The effect of delay in processing and clearance of various procurement activities needs no emphasis. The decentralization of decision-making mechanism and delegation of financial powers are aimed at facilitating faster decision making and obtaining the best value for money. However, delegation of powers also implies ‘authority with accountability’. Every individual in the chain of the procurement process is accountable for taking action in a specified time period so that the requirements of the Defence Departments are met on time. A flow chart showing major activities and time frame prescribed is placed at Appendix ‘A’.\n",
      "Answer:  In case of breach of a contract and liquidated damage, the contractor will have to pay the liquidated\n",
      "Confidence Score: 0.3095\n",
      "\n",
      "-------------------------------------\n",
      "Context: Identification of suitable suppliers: Proper source knowledge and identification of suitable suppliers capable of meeting the product quality required by the defence departments, particularly by the Defence Services, are vital functions for ensuring procurement of quality goods. Providing equal opportunity and ensuring fair play are also important requirements in any procurement process so as to achieve transparency. Hence, the selection and registration of firms, their performance appraisal and classification must be clearly spelt out and properly disseminated.\n",
      "Answer:  A liquidated Damages (LD) is a loss imposed on the customer in respect of the value of goods purchased. The total loss of LDI is a sum of the total LDI amount plus the LDI of the supplier of the goods. The LDI sum\n",
      "Confidence Score: 0.2871\n",
      "\n",
      "-------------------------------------\n"
     ]
    },
    {
     "ename": "KeyboardInterrupt",
     "evalue": "",
     "output_type": "error",
     "traceback": [
      "\u001b[0;31m---------------------------------------------------------------------------\u001b[0m",
      "\u001b[0;31mKeyboardInterrupt\u001b[0m                         Traceback (most recent call last)",
      "\u001b[0;32m/tmp/ipykernel_12921/2967223305.py\u001b[0m in \u001b[0;36m<module>\u001b[0;34m\u001b[0m\n\u001b[1;32m      5\u001b[0m \u001b[0;31m# Answer the question using each context\u001b[0m\u001b[0;34m\u001b[0m\u001b[0;34m\u001b[0m\u001b[0;34m\u001b[0m\u001b[0m\n\u001b[1;32m      6\u001b[0m \u001b[0;32mfor\u001b[0m \u001b[0mcontext\u001b[0m \u001b[0;32min\u001b[0m \u001b[0mcontexts\u001b[0m\u001b[0;34m:\u001b[0m\u001b[0;34m\u001b[0m\u001b[0;34m\u001b[0m\u001b[0m\n\u001b[0;32m----> 7\u001b[0;31m     \u001b[0manswer\u001b[0m\u001b[0;34m,\u001b[0m \u001b[0mconfidence\u001b[0m \u001b[0;34m=\u001b[0m \u001b[0manswer_question_using_context\u001b[0m\u001b[0;34m(\u001b[0m\u001b[0mmodel\u001b[0m\u001b[0;34m,\u001b[0m \u001b[0mtokenizer\u001b[0m\u001b[0;34m,\u001b[0m \u001b[0mcontext\u001b[0m\u001b[0;34m,\u001b[0m \u001b[0mquestion\u001b[0m\u001b[0;34m)\u001b[0m\u001b[0;34m\u001b[0m\u001b[0;34m\u001b[0m\u001b[0m\n\u001b[0m\u001b[1;32m      8\u001b[0m     \u001b[0mprint\u001b[0m\u001b[0;34m(\u001b[0m\u001b[0;34mf\"Context: {context}\"\u001b[0m\u001b[0;34m)\u001b[0m\u001b[0;34m\u001b[0m\u001b[0;34m\u001b[0m\u001b[0m\n\u001b[1;32m      9\u001b[0m     \u001b[0mprint\u001b[0m\u001b[0;34m(\u001b[0m\u001b[0;34mf\"Answer: {answer}\"\u001b[0m\u001b[0;34m)\u001b[0m\u001b[0;34m\u001b[0m\u001b[0;34m\u001b[0m\u001b[0m\n",
      "\u001b[0;32m/tmp/ipykernel_12921/3280976315.py\u001b[0m in \u001b[0;36manswer_question_using_context\u001b[0;34m(model, tokenizer, context, question, max_length)\u001b[0m\n\u001b[1;32m     12\u001b[0m     \u001b[0;32mwith\u001b[0m \u001b[0mtorch\u001b[0m\u001b[0;34m.\u001b[0m\u001b[0mno_grad\u001b[0m\u001b[0;34m(\u001b[0m\u001b[0;34m)\u001b[0m\u001b[0;34m:\u001b[0m\u001b[0;34m\u001b[0m\u001b[0;34m\u001b[0m\u001b[0m\n\u001b[1;32m     13\u001b[0m         \u001b[0;32mfor\u001b[0m \u001b[0m_\u001b[0m \u001b[0;32min\u001b[0m \u001b[0mrange\u001b[0m\u001b[0;34m(\u001b[0m\u001b[0mmax_length\u001b[0m \u001b[0;34m-\u001b[0m \u001b[0mlen\u001b[0m\u001b[0;34m(\u001b[0m\u001b[0minput_ids\u001b[0m\u001b[0;34m[\u001b[0m\u001b[0;36m0\u001b[0m\u001b[0;34m]\u001b[0m\u001b[0;34m)\u001b[0m\u001b[0;34m)\u001b[0m\u001b[0;34m:\u001b[0m\u001b[0;34m\u001b[0m\u001b[0;34m\u001b[0m\u001b[0m\n\u001b[0;32m---> 14\u001b[0;31m             \u001b[0mlogits\u001b[0m \u001b[0;34m=\u001b[0m \u001b[0mmodel\u001b[0m\u001b[0;34m(\u001b[0m\u001b[0mgenerated_ids\u001b[0m\u001b[0;34m)\u001b[0m\u001b[0;34m.\u001b[0m\u001b[0mlogits\u001b[0m\u001b[0;34m[\u001b[0m\u001b[0;34m:\u001b[0m\u001b[0;34m,\u001b[0m \u001b[0;34m-\u001b[0m\u001b[0;36m1\u001b[0m\u001b[0;34m,\u001b[0m \u001b[0;34m:\u001b[0m\u001b[0;34m]\u001b[0m\u001b[0;34m\u001b[0m\u001b[0;34m\u001b[0m\u001b[0m\n\u001b[0m\u001b[1;32m     15\u001b[0m             \u001b[0mprobs\u001b[0m \u001b[0;34m=\u001b[0m \u001b[0mF\u001b[0m\u001b[0;34m.\u001b[0m\u001b[0msoftmax\u001b[0m\u001b[0;34m(\u001b[0m\u001b[0mlogits\u001b[0m\u001b[0;34m,\u001b[0m \u001b[0mdim\u001b[0m\u001b[0;34m=\u001b[0m\u001b[0;34m-\u001b[0m\u001b[0;36m1\u001b[0m\u001b[0;34m)\u001b[0m\u001b[0;34m\u001b[0m\u001b[0;34m\u001b[0m\u001b[0m\n\u001b[1;32m     16\u001b[0m             \u001b[0mnext_token_logits\u001b[0m \u001b[0;34m=\u001b[0m \u001b[0mtop_k_top_p_filtering\u001b[0m\u001b[0;34m(\u001b[0m\u001b[0mlogits\u001b[0m\u001b[0;34m,\u001b[0m \u001b[0mtop_k\u001b[0m\u001b[0;34m=\u001b[0m\u001b[0;36m50\u001b[0m\u001b[0;34m,\u001b[0m \u001b[0mtop_p\u001b[0m\u001b[0;34m=\u001b[0m\u001b[0;36m0.95\u001b[0m\u001b[0;34m)\u001b[0m\u001b[0;34m\u001b[0m\u001b[0;34m\u001b[0m\u001b[0m\n",
      "\u001b[0;32m/usr/local/lib/python3.7/dist-packages/torch/nn/modules/module.py\u001b[0m in \u001b[0;36m_call_impl\u001b[0;34m(self, *input, **kwargs)\u001b[0m\n\u001b[1;32m   1192\u001b[0m         if not (self._backward_hooks or self._forward_hooks or self._forward_pre_hooks or _global_backward_hooks\n\u001b[1;32m   1193\u001b[0m                 or _global_forward_hooks or _global_forward_pre_hooks):\n\u001b[0;32m-> 1194\u001b[0;31m             \u001b[0;32mreturn\u001b[0m \u001b[0mforward_call\u001b[0m\u001b[0;34m(\u001b[0m\u001b[0;34m*\u001b[0m\u001b[0minput\u001b[0m\u001b[0;34m,\u001b[0m \u001b[0;34m**\u001b[0m\u001b[0mkwargs\u001b[0m\u001b[0;34m)\u001b[0m\u001b[0;34m\u001b[0m\u001b[0;34m\u001b[0m\u001b[0m\n\u001b[0m\u001b[1;32m   1195\u001b[0m         \u001b[0;31m# Do not call functions when jit is used\u001b[0m\u001b[0;34m\u001b[0m\u001b[0;34m\u001b[0m\u001b[0;34m\u001b[0m\u001b[0m\n\u001b[1;32m   1196\u001b[0m         \u001b[0mfull_backward_hooks\u001b[0m\u001b[0;34m,\u001b[0m \u001b[0mnon_full_backward_hooks\u001b[0m \u001b[0;34m=\u001b[0m \u001b[0;34m[\u001b[0m\u001b[0;34m]\u001b[0m\u001b[0;34m,\u001b[0m \u001b[0;34m[\u001b[0m\u001b[0;34m]\u001b[0m\u001b[0;34m\u001b[0m\u001b[0;34m\u001b[0m\u001b[0m\n",
      "\u001b[0;32m/usr/local/lib/python3.7/dist-packages/transformers/models/gpt2/modeling_gpt2.py\u001b[0m in \u001b[0;36mforward\u001b[0;34m(self, input_ids, past_key_values, attention_mask, token_type_ids, position_ids, head_mask, inputs_embeds, encoder_hidden_states, encoder_attention_mask, labels, use_cache, output_attentions, output_hidden_states, return_dict)\u001b[0m\n\u001b[1;32m   1100\u001b[0m             \u001b[0mhidden_states\u001b[0m \u001b[0;34m=\u001b[0m \u001b[0mhidden_states\u001b[0m\u001b[0;34m.\u001b[0m\u001b[0mto\u001b[0m\u001b[0;34m(\u001b[0m\u001b[0mself\u001b[0m\u001b[0;34m.\u001b[0m\u001b[0mlm_head\u001b[0m\u001b[0;34m.\u001b[0m\u001b[0mweight\u001b[0m\u001b[0;34m.\u001b[0m\u001b[0mdevice\u001b[0m\u001b[0;34m)\u001b[0m\u001b[0;34m\u001b[0m\u001b[0;34m\u001b[0m\u001b[0m\n\u001b[1;32m   1101\u001b[0m \u001b[0;34m\u001b[0m\u001b[0m\n\u001b[0;32m-> 1102\u001b[0;31m         \u001b[0mlm_logits\u001b[0m \u001b[0;34m=\u001b[0m \u001b[0mself\u001b[0m\u001b[0;34m.\u001b[0m\u001b[0mlm_head\u001b[0m\u001b[0;34m(\u001b[0m\u001b[0mhidden_states\u001b[0m\u001b[0;34m)\u001b[0m\u001b[0;34m\u001b[0m\u001b[0;34m\u001b[0m\u001b[0m\n\u001b[0m\u001b[1;32m   1103\u001b[0m \u001b[0;34m\u001b[0m\u001b[0m\n\u001b[1;32m   1104\u001b[0m         \u001b[0mloss\u001b[0m \u001b[0;34m=\u001b[0m \u001b[0;32mNone\u001b[0m\u001b[0;34m\u001b[0m\u001b[0;34m\u001b[0m\u001b[0m\n",
      "\u001b[0;32m/usr/local/lib/python3.7/dist-packages/torch/nn/modules/module.py\u001b[0m in \u001b[0;36m_call_impl\u001b[0;34m(self, *input, **kwargs)\u001b[0m\n\u001b[1;32m   1192\u001b[0m         if not (self._backward_hooks or self._forward_hooks or self._forward_pre_hooks or _global_backward_hooks\n\u001b[1;32m   1193\u001b[0m                 or _global_forward_hooks or _global_forward_pre_hooks):\n\u001b[0;32m-> 1194\u001b[0;31m             \u001b[0;32mreturn\u001b[0m \u001b[0mforward_call\u001b[0m\u001b[0;34m(\u001b[0m\u001b[0;34m*\u001b[0m\u001b[0minput\u001b[0m\u001b[0;34m,\u001b[0m \u001b[0;34m**\u001b[0m\u001b[0mkwargs\u001b[0m\u001b[0;34m)\u001b[0m\u001b[0;34m\u001b[0m\u001b[0;34m\u001b[0m\u001b[0m\n\u001b[0m\u001b[1;32m   1195\u001b[0m         \u001b[0;31m# Do not call functions when jit is used\u001b[0m\u001b[0;34m\u001b[0m\u001b[0;34m\u001b[0m\u001b[0;34m\u001b[0m\u001b[0m\n\u001b[1;32m   1196\u001b[0m         \u001b[0mfull_backward_hooks\u001b[0m\u001b[0;34m,\u001b[0m \u001b[0mnon_full_backward_hooks\u001b[0m \u001b[0;34m=\u001b[0m \u001b[0;34m[\u001b[0m\u001b[0;34m]\u001b[0m\u001b[0;34m,\u001b[0m \u001b[0;34m[\u001b[0m\u001b[0;34m]\u001b[0m\u001b[0;34m\u001b[0m\u001b[0;34m\u001b[0m\u001b[0m\n",
      "\u001b[0;32m/usr/local/lib/python3.7/dist-packages/torch/nn/modules/linear.py\u001b[0m in \u001b[0;36mforward\u001b[0;34m(self, input)\u001b[0m\n\u001b[1;32m    112\u001b[0m \u001b[0;34m\u001b[0m\u001b[0m\n\u001b[1;32m    113\u001b[0m     \u001b[0;32mdef\u001b[0m \u001b[0mforward\u001b[0m\u001b[0;34m(\u001b[0m\u001b[0mself\u001b[0m\u001b[0;34m,\u001b[0m \u001b[0minput\u001b[0m\u001b[0;34m:\u001b[0m \u001b[0mTensor\u001b[0m\u001b[0;34m)\u001b[0m \u001b[0;34m->\u001b[0m \u001b[0mTensor\u001b[0m\u001b[0;34m:\u001b[0m\u001b[0;34m\u001b[0m\u001b[0;34m\u001b[0m\u001b[0m\n\u001b[0;32m--> 114\u001b[0;31m         \u001b[0;32mreturn\u001b[0m \u001b[0mF\u001b[0m\u001b[0;34m.\u001b[0m\u001b[0mlinear\u001b[0m\u001b[0;34m(\u001b[0m\u001b[0minput\u001b[0m\u001b[0;34m,\u001b[0m \u001b[0mself\u001b[0m\u001b[0;34m.\u001b[0m\u001b[0mweight\u001b[0m\u001b[0;34m,\u001b[0m \u001b[0mself\u001b[0m\u001b[0;34m.\u001b[0m\u001b[0mbias\u001b[0m\u001b[0;34m)\u001b[0m\u001b[0;34m\u001b[0m\u001b[0;34m\u001b[0m\u001b[0m\n\u001b[0m\u001b[1;32m    115\u001b[0m \u001b[0;34m\u001b[0m\u001b[0m\n\u001b[1;32m    116\u001b[0m     \u001b[0;32mdef\u001b[0m \u001b[0mextra_repr\u001b[0m\u001b[0;34m(\u001b[0m\u001b[0mself\u001b[0m\u001b[0;34m)\u001b[0m \u001b[0;34m->\u001b[0m \u001b[0mstr\u001b[0m\u001b[0;34m:\u001b[0m\u001b[0;34m\u001b[0m\u001b[0;34m\u001b[0m\u001b[0m\n",
      "\u001b[0;31mKeyboardInterrupt\u001b[0m: "
     ]
    }
   ],
   "source": [
    "# Ask a question and retrieve relevant contexts\n",
    "question = \"What are Liquidated Damages?\"\n",
    "contexts = get_contexts_for_question(conn, cursor, question)\n",
    "\n",
    "# Answer the question using each context\n",
    "for context in contexts:\n",
    "    answer, confidence = answer_question_using_context(model, tokenizer, context, question)\n",
    "    print(f\"Context: {context}\")\n",
    "    print(f\"Answer: {answer}\")\n",
    "    print(f\"Confidence Score: {confidence:.4f}\\n\")\n",
    "    print(\"-------------------------------------\")\n"
   ]
  },
  {
   "cell_type": "code",
   "execution_count": 16,
   "metadata": {},
   "outputs": [
    {
     "ename": "NameError",
     "evalue": "name 'F' is not defined",
     "output_type": "error",
     "traceback": [
      "\u001b[0;31m---------------------------------------------------------------------------\u001b[0m",
      "\u001b[0;31mNameError\u001b[0m                                 Traceback (most recent call last)",
      "\u001b[0;32m/tmp/ipykernel_12921/2973639170.py\u001b[0m in \u001b[0;36m<module>\u001b[0;34m\u001b[0m\n\u001b[1;32m      7\u001b[0m \u001b[0;31m# Answer the question using each context and store the answers and confidence scores\u001b[0m\u001b[0;34m\u001b[0m\u001b[0;34m\u001b[0m\u001b[0;34m\u001b[0m\u001b[0m\n\u001b[1;32m      8\u001b[0m \u001b[0;32mfor\u001b[0m \u001b[0mcontext\u001b[0m \u001b[0;32min\u001b[0m \u001b[0mcontexts\u001b[0m\u001b[0;34m:\u001b[0m\u001b[0;34m\u001b[0m\u001b[0;34m\u001b[0m\u001b[0m\n\u001b[0;32m----> 9\u001b[0;31m     \u001b[0manswer\u001b[0m\u001b[0;34m,\u001b[0m \u001b[0mconfidence\u001b[0m \u001b[0;34m=\u001b[0m \u001b[0manswer_question_using_context\u001b[0m\u001b[0;34m(\u001b[0m\u001b[0mmodel\u001b[0m\u001b[0;34m,\u001b[0m \u001b[0mtokenizer\u001b[0m\u001b[0;34m,\u001b[0m \u001b[0mcontext\u001b[0m\u001b[0;34m,\u001b[0m \u001b[0mquestion\u001b[0m\u001b[0;34m)\u001b[0m\u001b[0;34m\u001b[0m\u001b[0;34m\u001b[0m\u001b[0m\n\u001b[0m\u001b[1;32m     10\u001b[0m     \u001b[0manswers_with_confidence\u001b[0m\u001b[0;34m.\u001b[0m\u001b[0mappend\u001b[0m\u001b[0;34m(\u001b[0m\u001b[0;34m(\u001b[0m\u001b[0manswer\u001b[0m\u001b[0;34m,\u001b[0m \u001b[0mconfidence\u001b[0m\u001b[0;34m,\u001b[0m \u001b[0mcontext\u001b[0m\u001b[0;34m)\u001b[0m\u001b[0;34m)\u001b[0m\u001b[0;34m\u001b[0m\u001b[0;34m\u001b[0m\u001b[0m\n\u001b[1;32m     11\u001b[0m \u001b[0;34m\u001b[0m\u001b[0m\n",
      "\u001b[0;32m/tmp/ipykernel_12921/1407928804.py\u001b[0m in \u001b[0;36manswer_question_using_context\u001b[0;34m(model, tokenizer, context, question, max_length)\u001b[0m\n\u001b[1;32m     12\u001b[0m         \u001b[0;32mfor\u001b[0m \u001b[0m_\u001b[0m \u001b[0;32min\u001b[0m \u001b[0mrange\u001b[0m\u001b[0;34m(\u001b[0m\u001b[0mmax_length\u001b[0m \u001b[0;34m-\u001b[0m \u001b[0mlen\u001b[0m\u001b[0;34m(\u001b[0m\u001b[0minput_ids\u001b[0m\u001b[0;34m[\u001b[0m\u001b[0;36m0\u001b[0m\u001b[0;34m]\u001b[0m\u001b[0;34m)\u001b[0m\u001b[0;34m)\u001b[0m\u001b[0;34m:\u001b[0m\u001b[0;34m\u001b[0m\u001b[0;34m\u001b[0m\u001b[0m\n\u001b[1;32m     13\u001b[0m             \u001b[0mlogits\u001b[0m \u001b[0;34m=\u001b[0m \u001b[0mmodel\u001b[0m\u001b[0;34m(\u001b[0m\u001b[0mgenerated_ids\u001b[0m\u001b[0;34m)\u001b[0m\u001b[0;34m.\u001b[0m\u001b[0mlogits\u001b[0m\u001b[0;34m[\u001b[0m\u001b[0;34m:\u001b[0m\u001b[0;34m,\u001b[0m \u001b[0;34m-\u001b[0m\u001b[0;36m1\u001b[0m\u001b[0;34m,\u001b[0m \u001b[0;34m:\u001b[0m\u001b[0;34m]\u001b[0m\u001b[0;34m\u001b[0m\u001b[0;34m\u001b[0m\u001b[0m\n\u001b[0;32m---> 14\u001b[0;31m             \u001b[0mprobs\u001b[0m \u001b[0;34m=\u001b[0m \u001b[0mF\u001b[0m\u001b[0;34m.\u001b[0m\u001b[0msoftmax\u001b[0m\u001b[0;34m(\u001b[0m\u001b[0mlogits\u001b[0m\u001b[0;34m,\u001b[0m \u001b[0mdim\u001b[0m\u001b[0;34m=\u001b[0m\u001b[0;34m-\u001b[0m\u001b[0;36m1\u001b[0m\u001b[0;34m)\u001b[0m\u001b[0;34m\u001b[0m\u001b[0;34m\u001b[0m\u001b[0m\n\u001b[0m\u001b[1;32m     15\u001b[0m             \u001b[0mnext_token_logits\u001b[0m \u001b[0;34m=\u001b[0m \u001b[0mtop_k_top_p_filtering\u001b[0m\u001b[0;34m(\u001b[0m\u001b[0mlogits\u001b[0m\u001b[0;34m,\u001b[0m \u001b[0mtop_k\u001b[0m\u001b[0;34m=\u001b[0m\u001b[0;36m50\u001b[0m\u001b[0;34m,\u001b[0m \u001b[0mtop_p\u001b[0m\u001b[0;34m=\u001b[0m\u001b[0;36m0.95\u001b[0m\u001b[0;34m)\u001b[0m\u001b[0;34m\u001b[0m\u001b[0;34m\u001b[0m\u001b[0m\n\u001b[1;32m     16\u001b[0m             \u001b[0mnext_token\u001b[0m \u001b[0;34m=\u001b[0m \u001b[0mtorch\u001b[0m\u001b[0;34m.\u001b[0m\u001b[0mmultinomial\u001b[0m\u001b[0;34m(\u001b[0m\u001b[0mF\u001b[0m\u001b[0;34m.\u001b[0m\u001b[0msoftmax\u001b[0m\u001b[0;34m(\u001b[0m\u001b[0mnext_token_logits\u001b[0m\u001b[0;34m,\u001b[0m \u001b[0mdim\u001b[0m\u001b[0;34m=\u001b[0m\u001b[0;34m-\u001b[0m\u001b[0;36m1\u001b[0m\u001b[0;34m)\u001b[0m\u001b[0;34m,\u001b[0m \u001b[0mnum_samples\u001b[0m\u001b[0;34m=\u001b[0m\u001b[0;36m1\u001b[0m\u001b[0;34m)\u001b[0m\u001b[0;34m\u001b[0m\u001b[0;34m\u001b[0m\u001b[0m\n",
      "\u001b[0;31mNameError\u001b[0m: name 'F' is not defined"
     ]
    }
   ],
   "source": [
    "\n",
    "# Ask a question and retrieve relevant contexts\n",
    "question = \"What are Liquidated Damages?\"\n",
    "contexts = get_contexts_for_question(conn, cursor, question)\n",
    "\n",
    "answers_with_confidence = []\n",
    "\n",
    "# Answer the question using each context and store the answers and confidence scores\n",
    "for context in contexts:\n",
    "    answer, confidence = answer_question_using_context(model, tokenizer, context, question)\n",
    "    answers_with_confidence.append((answer, confidence, context))\n",
    "\n",
    "# Sort by confidence and get the answer with the highest score\n",
    "sorted_answers = sorted(answers_with_confidence, key=lambda x: x[1], reverse=True)\n",
    "top_answer, top_confidence, top_context = sorted_answers[0]\n",
    "\n",
    "print(f\"Context with highest confidence: {top_context}\")\n",
    "print(f\"Answer with highest confidence: {top_answer}\")\n",
    "print(f\"Confidence Score: {top_confidence:.4f}\\n\")\n",
    "print(\"-------------------------------------\")"
   ]
  },
  {
   "cell_type": "code",
   "execution_count": 18,
   "metadata": {},
   "outputs": [
    {
     "ename": "NameError",
     "evalue": "name 'F' is not defined",
     "output_type": "error",
     "traceback": [
      "\u001b[0;31m---------------------------------------------------------------------------\u001b[0m",
      "\u001b[0;31mNameError\u001b[0m                                 Traceback (most recent call last)",
      "\u001b[0;32m/tmp/ipykernel_12921/2967223305.py\u001b[0m in \u001b[0;36m<module>\u001b[0;34m\u001b[0m\n\u001b[1;32m      5\u001b[0m \u001b[0;31m# Answer the question using each context\u001b[0m\u001b[0;34m\u001b[0m\u001b[0;34m\u001b[0m\u001b[0;34m\u001b[0m\u001b[0m\n\u001b[1;32m      6\u001b[0m \u001b[0;32mfor\u001b[0m \u001b[0mcontext\u001b[0m \u001b[0;32min\u001b[0m \u001b[0mcontexts\u001b[0m\u001b[0;34m:\u001b[0m\u001b[0;34m\u001b[0m\u001b[0;34m\u001b[0m\u001b[0m\n\u001b[0;32m----> 7\u001b[0;31m     \u001b[0manswer\u001b[0m\u001b[0;34m,\u001b[0m \u001b[0mconfidence\u001b[0m \u001b[0;34m=\u001b[0m \u001b[0manswer_question_using_context\u001b[0m\u001b[0;34m(\u001b[0m\u001b[0mmodel\u001b[0m\u001b[0;34m,\u001b[0m \u001b[0mtokenizer\u001b[0m\u001b[0;34m,\u001b[0m \u001b[0mcontext\u001b[0m\u001b[0;34m,\u001b[0m \u001b[0mquestion\u001b[0m\u001b[0;34m)\u001b[0m\u001b[0;34m\u001b[0m\u001b[0;34m\u001b[0m\u001b[0m\n\u001b[0m\u001b[1;32m      8\u001b[0m     \u001b[0mprint\u001b[0m\u001b[0;34m(\u001b[0m\u001b[0;34mf\"Context: {context}\"\u001b[0m\u001b[0;34m)\u001b[0m\u001b[0;34m\u001b[0m\u001b[0;34m\u001b[0m\u001b[0m\n\u001b[1;32m      9\u001b[0m     \u001b[0mprint\u001b[0m\u001b[0;34m(\u001b[0m\u001b[0;34mf\"Answer: {answer}\"\u001b[0m\u001b[0;34m)\u001b[0m\u001b[0;34m\u001b[0m\u001b[0;34m\u001b[0m\u001b[0m\n",
      "\u001b[0;32m/tmp/ipykernel_12921/1407928804.py\u001b[0m in \u001b[0;36manswer_question_using_context\u001b[0;34m(model, tokenizer, context, question, max_length)\u001b[0m\n\u001b[1;32m     12\u001b[0m         \u001b[0;32mfor\u001b[0m \u001b[0m_\u001b[0m \u001b[0;32min\u001b[0m \u001b[0mrange\u001b[0m\u001b[0;34m(\u001b[0m\u001b[0mmax_length\u001b[0m \u001b[0;34m-\u001b[0m \u001b[0mlen\u001b[0m\u001b[0;34m(\u001b[0m\u001b[0minput_ids\u001b[0m\u001b[0;34m[\u001b[0m\u001b[0;36m0\u001b[0m\u001b[0;34m]\u001b[0m\u001b[0;34m)\u001b[0m\u001b[0;34m)\u001b[0m\u001b[0;34m:\u001b[0m\u001b[0;34m\u001b[0m\u001b[0;34m\u001b[0m\u001b[0m\n\u001b[1;32m     13\u001b[0m             \u001b[0mlogits\u001b[0m \u001b[0;34m=\u001b[0m \u001b[0mmodel\u001b[0m\u001b[0;34m(\u001b[0m\u001b[0mgenerated_ids\u001b[0m\u001b[0;34m)\u001b[0m\u001b[0;34m.\u001b[0m\u001b[0mlogits\u001b[0m\u001b[0;34m[\u001b[0m\u001b[0;34m:\u001b[0m\u001b[0;34m,\u001b[0m \u001b[0;34m-\u001b[0m\u001b[0;36m1\u001b[0m\u001b[0;34m,\u001b[0m \u001b[0;34m:\u001b[0m\u001b[0;34m]\u001b[0m\u001b[0;34m\u001b[0m\u001b[0;34m\u001b[0m\u001b[0m\n\u001b[0;32m---> 14\u001b[0;31m             \u001b[0mprobs\u001b[0m \u001b[0;34m=\u001b[0m \u001b[0mF\u001b[0m\u001b[0;34m.\u001b[0m\u001b[0msoftmax\u001b[0m\u001b[0;34m(\u001b[0m\u001b[0mlogits\u001b[0m\u001b[0;34m,\u001b[0m \u001b[0mdim\u001b[0m\u001b[0;34m=\u001b[0m\u001b[0;34m-\u001b[0m\u001b[0;36m1\u001b[0m\u001b[0;34m)\u001b[0m\u001b[0;34m\u001b[0m\u001b[0;34m\u001b[0m\u001b[0m\n\u001b[0m\u001b[1;32m     15\u001b[0m             \u001b[0mnext_token_logits\u001b[0m \u001b[0;34m=\u001b[0m \u001b[0mtop_k_top_p_filtering\u001b[0m\u001b[0;34m(\u001b[0m\u001b[0mlogits\u001b[0m\u001b[0;34m,\u001b[0m \u001b[0mtop_k\u001b[0m\u001b[0;34m=\u001b[0m\u001b[0;36m50\u001b[0m\u001b[0;34m,\u001b[0m \u001b[0mtop_p\u001b[0m\u001b[0;34m=\u001b[0m\u001b[0;36m0.95\u001b[0m\u001b[0;34m)\u001b[0m\u001b[0;34m\u001b[0m\u001b[0;34m\u001b[0m\u001b[0m\n\u001b[1;32m     16\u001b[0m             \u001b[0mnext_token\u001b[0m \u001b[0;34m=\u001b[0m \u001b[0mtorch\u001b[0m\u001b[0;34m.\u001b[0m\u001b[0mmultinomial\u001b[0m\u001b[0;34m(\u001b[0m\u001b[0mF\u001b[0m\u001b[0;34m.\u001b[0m\u001b[0msoftmax\u001b[0m\u001b[0;34m(\u001b[0m\u001b[0mnext_token_logits\u001b[0m\u001b[0;34m,\u001b[0m \u001b[0mdim\u001b[0m\u001b[0;34m=\u001b[0m\u001b[0;34m-\u001b[0m\u001b[0;36m1\u001b[0m\u001b[0;34m)\u001b[0m\u001b[0;34m,\u001b[0m \u001b[0mnum_samples\u001b[0m\u001b[0;34m=\u001b[0m\u001b[0;36m1\u001b[0m\u001b[0;34m)\u001b[0m\u001b[0;34m\u001b[0m\u001b[0;34m\u001b[0m\u001b[0m\n",
      "\u001b[0;31mNameError\u001b[0m: name 'F' is not defined"
     ]
    }
   ],
   "source": [
    "# Ask a question and retrieve relevant contexts\n",
    "question = \"What are Liquidated Damages?\"\n",
    "contexts = get_contexts_for_question(conn, cursor, question)\n",
    "\n",
    "# Answer the question using each context\n",
    "for context in contexts:\n",
    "    answer, confidence = answer_question_using_context(model, tokenizer, context, question)\n",
    "    print(f\"Context: {context}\")\n",
    "    print(f\"Answer: {answer}\")\n",
    "    print(f\"Confidence Score: {confidence:.4f}\\n\")\n",
    "    print(\"-------------------------------------\")\n"
   ]
  },
  {
   "cell_type": "code",
   "execution_count": 22,
   "metadata": {},
   "outputs": [
    {
     "name": "stdout",
     "output_type": "stream",
     "text": [
      "Context: FORMAT FOR ISSUING SANCTIONS 328\n",
      "Answer:  328.1 Force majeure is defined in Chapter 3-4 of Part VIII of this Schedule as when, in the opinion of any person or authority in his place of duty, any emergency arises or any action, failure to perform or any failure in a particular duty is reasonably likely to arise. A person or authority shall, in exercising his or her power, exercise due care to ascertain whether any particular situation and or duty presents any such emergency. In the absence of adequate warning or justification, the officer shall not attempt to rescue or render aid unless there are sufficient alternative means of escape available to him, or, failing such alternative, unless that person or authority is\n",
      "Confidence Score: 0.2430\n",
      "\n",
      "-------------------------------------\n",
      "Context: This Manual may be called the Defence Procurement Manual, 2009 (DPM 2009, for short).\n",
      "Answer:  To answer this question, we first need to understand how force majeure is defined under Canadian law. Force majeure occurs when there is no operational plan, control system, or security plan for Canada and Canadian personnel who are involved in an operation. These personnel must follow strict rules, regulations and regulations that determine when force majeure occurs and what they must do. When force majeure occurs, it is generally a result of inadequate training in Canadian Armed Forces requirements. Force majeure may arise in the following situations: A failure to comply with Canada's training standards.\n",
      "\n",
      "A failure to\n",
      "Confidence Score: 0.3727\n",
      "\n",
      "-------------------------------------\n",
      "Context: This Manual contains principles and procedure relating to procurement of goods and services for the Defence Services, Organizations and Establishments, laid down in terms of Rule 135 of the General Financial Rules, 2005 and shall come into force with effect from 1st of April 2009.\n",
      "Answer: \n",
      "\n",
      "The situation of the army or armed forces when there is a situation of force majeure or deterioration of operational situation is dependent on the factors and factors of state which govern the use of force in any particular situation and the forces of the state. The above factors are: The national constitution, rules governing the use of force by the Armed Forces, the use of force by the State Government, the force-use ratios applicable to armed forces in operational\n",
      "Confidence Score: 0.2849\n",
      "\n",
      "-------------------------------------\n",
      "Context: All on-going cases of procurement in which Request for Proposal (RFP) has already been issued may continue to be regulated by the provisions of the Defence Procurement Manual, 2006.\n",
      "Answer:  Force majeure refers to a condition where forces involved are unable to continue their operations because of events beyond their control such as casualties on the battlefield, damage to equipment, or because of delays in completion or re-engagement of an operation. The term \"force majeure\" is used in this manual to mean any situation where there is a major risk of loss of life or significant damage to a unit, object, or facility. Forces involved in such incidents include the Canadian Forces, Royal Canadian Army (RCA\n",
      "Confidence Score: 0.3666\n",
      "\n",
      "-------------------------------------\n",
      "Context: The principles and procedures contained in this Manual are to be followed by all wings of the Ministry of Defence and the Defence Services, as well as all organizations and units/establishments thereunder, for procurement of goods and services, expenditure on account of which is met from the revenue heads of the Defence Services Estimates (DSE) and any other type of purchases to which the provisions are made specifically applicable.\n",
      "Answer:  Force majeure may be caused by any event or condition of the Armed Forces as determined under section 18 of the Australian Defence Act 1990 (Cth), or by a change or alteration to conditions or procedures of the Defence Forces as set out in the Defence Force Act 1974 (Cth). For example, during deployment\n",
      "Confidence Score: 0.3154\n",
      "\n",
      "-------------------------------------\n"
     ]
    }
   ],
   "source": [
    "# Ask a question and retrieve relevant contexts\n",
    "question = \"What is Force Majeure?\"\n",
    "contexts = get_contexts_for_question(conn, cursor, question)\n",
    "\n",
    "# Answer the question using each context\n",
    "for context in contexts:\n",
    "    answer, confidence = answer_question_using_context(model, tokenizer, context, question)\n",
    "    print(f\"Context: {context}\")\n",
    "    print(f\"Answer: {answer}\")\n",
    "    print(f\"Confidence Score: {confidence:.4f}\\n\")\n",
    "    print(\"-------------------------------------\")\n"
   ]
  },
  {
   "attachments": {},
   "cell_type": "markdown",
   "metadata": {},
   "source": [
    "### Old Questions"
   ]
  },
  {
   "cell_type": "code",
   "execution_count": 8,
   "metadata": {},
   "outputs": [
    {
     "name": "stdout",
     "output_type": "stream",
     "text": [
      "(a) The Chief of the Navy.\n",
      " (b) Chief, Chief Engineer, Commander, Captain, Lieutenant, Major, and Captain. \n",
      "What are some of these officers?  What is the role of each of them? What does the Chief do? How does he operate? Is he the head of any department? Does he have any authority to make decisions? Do he make any decisions himself? Are there any rules or regulations? Who is responsible for the performance of his duties? Where does his authority come from? Why does it exist? And what is his role in relation to the other officers of this class? (c) Captain and Lieutenant. (d) Lieutenant and Major.  What is their role? \n",
      "How does a Lieutenant Commander operate in this role, or does that role come under the authority of a Captain?  \n",
      "Is there a hierarchy of rank within the Naval Service? If so, what does this hierarchy consist of? Can a Commander be a Major? A Lieutenant? a Colonel? or a Vice Admiral? The answer to these questions will determine the type of officer that the Indians will have in their service. The Indian Chief is not the only officer in a Naval service, but he is certainly the most important. He is also the one who has the greatest responsibility for his service to his country. His authority is derived from his position as the chief of staff of all the officers and his responsibility is to ensure that all of those officers are doing their duty. This is a very important role. It is important that he be able to communicate with the various officers, to give them orders, give instructions, make recommendations, etc. and to be in constant communication with them. In addition, he must be aware of their needs and be prepared to meet them in any way that is necessary. If he does not have the ability to do this, then he will be unable to perform his responsibilities. A Chief must also be very careful to keep his subordinates in good health and well fed. There are many ways in which a Chief can be of use to a Navy officer\n"
     ]
    }
   ],
   "source": [
    "question = \"What are the different types of officers in the Indian Navy?\"\n",
    "answer = answer_question_gpt2_v2(question, cursor)\n",
    "print(answer)"
   ]
  },
  {
   "cell_type": "code",
   "execution_count": 9,
   "metadata": {},
   "outputs": [
    {
     "name": "stdout",
     "output_type": "stream",
     "text": [
      "1. The audit officers are responsible for the following:\n",
      "a) The preparation of a statement of financial statements and accounts of all the entities and persons who are\n",
      "i) the subject of audit.\n",
      "ii) who have been audited by the auditing agency. They are also responsible\n",
      "iii) for ensuring that the financial statement and account of each entity and person is\n",
      "iv) accurate and complete. In addition, they are required to\n",
      "v) prepare a report on the results of their audit and to make recommendations to the\n",
      "vi) auditors. 2. Each audit agency has a separate audit division. This division is responsible to prepare\n",
      "3. A statement is prepared by each audit department. It is a summary of information\n",
      "4. These statements are submitted to each auditor. 5. When the auditor receives the statement, he or she must\n",
      "6. make a decision on whether to accept or reject the report. 7. If the decision is to reject, the Auditor must send a copy of his or her decision to all\n",
      "8. audit officers. 9. After the final decision has been made, it is sent to a third party who is not\n",
      "10. the third-party auditor, who must then prepare the reports. 11. All the documents submitted by auditor to third parties must be\n",
      "12. signed by all auditees. 13. Third-parties are not required, but they may be requested to sign the document. 14. Audit reports are sent by certified mail to: Auditor General of Canada\n",
      "15. Auditor of Public Accounts\n",
      "16. Audit Officer of Auditor-General of Ontario\n",
      "17. Public Audit Office of Alberta\n",
      "18. Office for Public Information\n",
      "19. Department of Finance\n",
      "20. Ministry of Labour\n",
      "21. Minister of State for Finance and Administration\n",
      "22. Government of British Columbia\n",
      "23. Canadian Revenue Agency\n",
      "24. Canada Revenue Fund (CRAF)\n",
      "25. Treasury Board Secretariat\n",
      "26. Financial Administration Branch\n",
      "27. National Capital Commission\n",
      "28. Statistics Canada (SAC)\n"
     ]
    }
   ],
   "source": [
    "question = \"What is the role of the audit officer according to chapter 4?\"\n",
    "answer = answer_question_gpt2_v2(question, cursor)\n",
    "print(answer)"
   ]
  },
  {
   "cell_type": "code",
   "execution_count": 10,
   "metadata": {},
   "outputs": [
    {
     "name": "stdout",
     "output_type": "stream",
     "text": [
      "(a) The Preference of the Defence Auditor General in the preparation of a report on the performance of defence audit Mauna Kea.\n",
      " (b) A statement of all the information that the Auditor-General has received from the Government of New Zealand in relation to the audit of Māori Defence. (c) An explanation of how the auditor-general has been able to obtain the relevant information.  What is the purpose of this report? \n",
      "The purpose is to provide the public with a detailed account of what has happened in Mōori defence and the impact of that on Mīori people. The report will also provide an opportunity for the Minister to respond to questions raised by the media. This report is not intended to be a substitute for a full audit report. It is intended as a supplement to that report and will not be used as the basis for any subsequent audit.\n"
     ]
    }
   ],
   "source": [
    "question = \"What are the Prefeaces of Defence Audit Maunal?\"\n",
    "answer = answer_question_gpt2_v2(question, cursor)\n",
    "print(answer)"
   ]
  },
  {
   "cell_type": "code",
   "execution_count": 11,
   "metadata": {},
   "outputs": [
    {
     "name": "stdout",
     "output_type": "stream",
     "text": [
      "(a) Section 4 of the Public Accounts (Management) Act, 1956, as amended by the Finance Act of 2012, and\n",
      " (b) section 4(1) of that Act.\n",
      ", the Comsec. of Finance has been empowered to make such payments as may be necessary to meet the obligations of, or to pay the interest on, such debt or deposits. In the case of a debt of Rs. 1,000 crore or more, it may, in the exercise of its powers under this section, make payments of up to Rs 1 lakh crore. It may also make payment of interest at a rate of 5 per cent per annum. Such payments may not be made on account of any other debt. If the debt is of less than Rs 500 crore, payment may only be on the basis of an amount equal to the amount of such interest. Payment may take place on any day of payment. Payments may include interest only on such amount as is due. Any payment made under the provisions of this Section shall be deemed to be a payment under section 5 of Public Finance (Procedures) Rules, 1952. (a), (c) and (d) are not applicable to any debt which is not of more than one lakh crores. However, if the debtor is a public sector undertaking, any payment to it under any of these provisions shall not constitute a discharge of debt under that section.The ComSec. has also been given the power to issue bonds of at least Rs 10,00,0000 to cover the principal amount and interest of all such debts. These bonds shall have the same terms and conditions as the bonds issued by it in connection with the previous year. They shall bear interest thereon at the rate prescribed by law. No bonds may bear more interest than the total amount outstanding on its face. A bond issued under these rules shall, subject to such conditions and limitations as are prescribed, be valid for a period of not less that one year from the date of issue.A bond may have no interest for more then one month from its issue date. Bonds\n"
     ]
    }
   ],
   "source": [
    "question = \"The Comptroller and Auditor General of India today derives his authority from where?\"\n",
    "answer = answer_question_gpt2_v2(question, cursor)\n",
    "print(answer)"
   ]
  },
  {
   "cell_type": "code",
   "execution_count": 13,
   "metadata": {},
   "outputs": [
    {
     "name": "stdout",
     "output_type": "stream",
     "text": [
      "(a) The objective of the Public Purchasing is to obtain the necessary funds for the maintenance of public services and the provision of goods and services to the public.\n",
      " (b) Public purchasing is carried out in accordance with the following principles:\n",
      "1. The public purchasing of services is done in the interests of all the citizens of a State. 2. Public buying is conducted in a manner that is fair and equitable. 3. All the goods, services, facilities and facilities of State institutions are purchased in good faith. 4. Purchases are made in such a way that the cost of purchasing the services of state institutions is borne by the State and not by any individual. 5. In the case of private purchases, the costs of procurement are borne in proportion to their value. 6. When the price of any service is fixed, it is not possible to determine the value of that service. 7. It is the duty of every State to ensure that all its public institutions, public agencies and public undertakings are able to purchase the products of their own resources. 8. State purchasing should be carried on in an orderly manner and in conformity with law. 9. A State should not be allowed to buy goods or services at a price that it does not believe to be fair or equitable to its citizens. 10. If a public institution or public agency is unable to procure the product of its own resource, then it should purchase it from another State institution, agency or undertaking. 11. Where a state institution is able, but unable, to acquire the resources of another state, a private institution should buy the resource from the state. 12. Private purchasing does no harm to any other State or to other public bodies. 13. Any State that does public buying should ensure the integrity of such purchases. 14. Every State must ensure, in order to maintain the independence of it, that its institutions and agencies are not allowed, or are unable or unwilling to, purchase goods from private persons. 15. No State shall be permitted to sell goods to private\n"
     ]
    }
   ],
   "source": [
    "question = \"What are the fundamental Principles of Public Buying according to CHAPTER 2 PROCUREMENT – OBJECTIVE AND POLICY?\"\n",
    "answer = answer_question_gpt2_v2(question, cursor)\n",
    "print(answer)"
   ]
  },
  {
   "cell_type": "code",
   "execution_count": 14,
   "metadata": {},
   "outputs": [
    {
     "name": "stdout",
     "output_type": "stream",
     "text": [
      "1. The fund is available for public procurements when the total amount of the fund available to the public is at least Rs. 1 crore.\n",
      "2. When the amount available is less than Rs 1 crores, the government may not be able to procure the goods or services. In such case, it may be necessary to seek the assistance of private sector. 3. If the funds available are less then Rs 2 crore, then the Government may seek private assistance. 4. It is important to note that the Public Procurement Act, 2009 (PPA) provides for the provision of funds for Public procurement. 5. Public procurement is a public purpose and the purpose of this Act is to provide for procurement of goods and services for which the cost of procurement is borne by the State. 6. This Act provides that funds may only be provided for a period of one year from the date of commencement of public procurements. 7. A public body may, in its discretion, provide funds to a private body for any purpose. 8. Funds provided under this section may also be used for other purposes. 9. Where the expenditure of a fund under section 3 of PPA is not covered by any other provision, such expenditure shall be deemed to be covered under the provisions of section 4 of that Act. 10. For the purposes of sections 3 and 4, a person shall not, for purposes other than public purposes, be considered to have made a contribution to any fund or to make a payment to another person for such purpose if the person has made such a donation or payment in good faith. 11. Notwithstanding anything contained in this Part, if a State or a Union Territory has a Public Purpose Fund, that fund shall, subject to section 5, not only cover the expenses of any public functionary but also the costs of providing services to such public functionsary. 12. Nothing in the preceding provisions shall prevent a Government from providing funds under any of them for its own purposes or for those of its agencies. 13. Any expenditure made by a body under a provision under Section 3 or 4\n"
     ]
    }
   ],
   "source": [
    "question = \"What is importance of fund availability when doing public procurement according to DPM 2009?\"\n",
    "answer = answer_question_gpt2_v2(question, cursor)\n",
    "print(answer)"
   ]
  },
  {
   "cell_type": "code",
   "execution_count": 15,
   "metadata": {},
   "outputs": [
    {
     "name": "stdout",
     "output_type": "stream",
     "text": [
      "1. The Foreign procurement manual 2009 is available from the Ministry of Defence website at: http://www.mofa.gov.uk/pubs/fpg/pdf/Fpg2009.pdf\n",
      "2. Where a foreign procurement contract is awarded, the contract must be signed by the contracting party and the foreign procurer.\n",
      "3. A foreign procuree must submit a copy of the Foreign procuree's contract to the Contracting Officer. If the FPO is not available, a Contractor's Representative may be appointed. This Contract Officer will then sign the document.  The Contractors' Representative will also sign a statement of receipt, which must include the name of each foreign supplier and their address. \n",
      "4. When the procurement is completed, it is sent to a Foreign Contract Office for approval. Once approved, this contract will be sent back to FCO for further approval and approval of further contracts. FOCO will send the final contract back for final approval to all foreign suppliers. In the case of a contract for a single product, FODO may also send a separate contract. However, if the product is a multi-product contract, then FFO will not send any separate contracts to foreign contractors. It is important to note that FOGO does not have the power to approve or reject a particular contract and will only approve the contracts that are in the best interests of FOP. For example, in order to ensure that a product can be delivered to its intended customer, an FO must ensure the delivery of all the required components and equipment. Therefore, when a FOB is involved in a procurement, they must also ensure all of these requirements are met.  \n",
      "5. After approval, foreign contracts are sent out to suppliers and FOMs. These contracts will usually be for the following products:\n",
      "a) Defence equipment\n",
      "b) Military equipment (including aircraft, ships, submarines, armoured vehicles, aircraft carriers, and other military equipment)\n",
      "c) Other defence equipment and services\n",
      "d) Equipment for use in\n"
     ]
    }
   ],
   "source": [
    "question = \"WHat is the procedure for Foreign Procurement iaw Defence Procurement Manual 2009?\"\n",
    "answer = answer_question_gpt2_v2(question, cursor)\n",
    "print(answer)"
   ]
  },
  {
   "cell_type": "code",
   "execution_count": 16,
   "metadata": {},
   "outputs": [
    {
     "name": "stdout",
     "output_type": "stream",
     "text": [
      "(a) The Defence Procuresment Act, 1952 (as amended) provides that the Defence Minister may procure goods and services for the\n",
      "    (i) Defence Forces,\n",
      "   (ii) the Royal Australian Air Force, and\n",
      "    (iii) other Defence Force units and units of the Australian Defence\n",
      "            Force.\n",
      "The Defence Act provides for a number of different ways in which the Minister can procure\n",
      "     \n",
      "1. goods for use in the defence of Australia. The Act also provides the following:\n",
      "\" 1.1 The Minister shall procure for Australia the goods, services and facilities necessary for\n",
      "                                                the performance of its duties under this Act. 1.2 The goods or services may be\n",
      "for the purpose of providing for or supporting the operation of a Defence force unit or unit of an Australian defence force. 2.2.3 The defence goods may include goods that are not for sale or for resale. 3.4 The minister may not procure any goods unless the minister is satisfied that they are necessary to meet the requirements of this section. 4.5 The procurement of goods shall be subject to the approval of Parliament. 5.6 The approval shall not be required for any other purpose. 6.7 The approvals of Ministers under section 3 shall only be for matters relating\n",
      "to the procurement or supply of defence equipment or supplies. 7.8 The provisions of section 2 of that Act shall apply to any defence procurement. 8.9 The provision of any approval under subsection (1) shall have effect subject\n",
      " to section 4 of Part 2.\"\n",
      "9.10 The following are the types of items that may and may\n",
      "not be procured under the Act: (a), (b), and (c)\n",
      "10.11 The Department of Defence has a list of all items of equipment and supplies that it may procure for its Defence forces. This list is available on the Department's website at: http://www.defence.gov.au/defences/list.asp?item=1\n",
      "11.12 The list\n"
     ]
    }
   ],
   "source": [
    "question = \"What are various modes of public Procurement in Defence?\"\n",
    "answer = answer_question_gpt2_v2(question, cursor)\n",
    "print(answer)"
   ]
  },
  {
   "cell_type": "code",
   "execution_count": 20,
   "metadata": {},
   "outputs": [
    {
     "name": "stdout",
     "output_type": "stream",
     "text": [
      "1. The Defence procurement policy is to procure only the most necessary items for the country's defence needs.\n",
      "2. In the case of procurement of defence items, the Government of India has to make a decision on the cost of the item and the amount of cost. This decision is made by the Defence Minister. It is the responsibility of each department to submit a report to the Minister on its decision. If the decision of a department is not in conformity with the policy of Defence, then the department has the right to appeal to a higher authority. However, if the Department of Defense does not submit its report within a reasonable period of time, it is considered as a failure of its duty. \n",
      "3. Under the single- tender policy, a single department can submit an enquiries report on a particular item. A single enquisition report is a written report which is submitted to all departments. Each department may submit one enquiring report. An enquirer is an individual who is appointed by a Defence Ministry to conduct enquires on an item of public procurement. He/she is responsible for conducting enquisitions on all items of Public Procuresment. Inquiries are conducted by enquired persons. They are not commissioned by any department. There are two types of enquirings:\n",
      "a) Single enquiration report\n",
      "b) Multiple enquirement report  (MIR)\n",
      "The MIR is conducted in the same manner as the enquirements report, except that the M IR is sent to each of departments separately. M ir is also sent by mail to every department and is received by them within 24 hours. All departments are required to send M irit to their respective departments within 48 hours of receipt of Mirit. When a Mir is forwarded to any of their departments, they are notified of it. Once notified, each M ire is then forwarded by MIr to its respective department within 72 hours from the date of notification. After 72 days, Mirs are forwarded again to that department for further action. \n",
      "4. Single-tender enquis\n"
     ]
    }
   ],
   "source": [
    "question = \"What is single tender enquiry with respect to Public procurement as per Defence Procurement Manual in India?\"\n",
    "answer = answer_question_gpt2_v2(question, cursor)\n",
    "print(answer)"
   ]
  },
  {
   "cell_type": "code",
   "execution_count": 24,
   "metadata": {},
   "outputs": [
    {
     "name": "stdout",
     "output_type": "stream",
     "text": [
      "(a) Submarines. The Indian Naval Submarine Force (INS) consists of the following types:\n",
      "- Sub-marine (SSM) - Submersible (SMS)\n",
      "Sub-marine ( SSM ) is a submersable submarine that is designed to operate in shallow water and is capable of operating in a variety of weather conditions. It is the most common type of submarine in Indian service.\n",
      "The submarine is equipped with a crew of four and can carry up to eight people. Submerged in water, the submarine can operate for up a period of up, 30 minutes. In the case of a submarine sinking, it is possible to rescue the crew by using a rescue helicopter. A rescue chopper can be used to reach the submerged submarine. This type is also used for rescue operations in deep water. (b) Surface Combatant (SC) and Sub Surface (ST) submarines. These submarines are designed for surface combatant and sub surface operations. They are equipped to carry out surface warfare and are capable to engage in surface-to-surface combat. SC and ST submarines can also operate from shore. Their main purpose is to conduct surface to air combat and surface naval operations, respectively. Surface combatants are armed with torpedoes and anti-ship missiles. ST subs are also armed to fire anti aircraft missiles and to launch anti naval missiles, which can reach a range of over 1,000 km. Both types are used in coastal and coastal defence operations and in anti submarine operations as well. \n",
      " (c) Light Combatants (LC) or Light Sub (LS) subs. LC subs and LS subs can perform the same functions as SC subs but are not equipped for anti air or anti surface missions. Light subs have a maximum speed of 15 knots and a displacement of 1.5 m. Larger subs, such as the Type 052, can have an operational range up the order of 2,500 km and carry a payload of more than 1 tonne. Type 1 and Type 2 submarines, are more powerful than the LC and L subs respectively and\n"
     ]
    }
   ],
   "source": [
    "question = \"What are the different types of submarines in the Indian Navy?\"\n",
    "answer = answer_question_gpt2_v2(question, cursor)\n",
    "print(answer)"
   ]
  },
  {
   "cell_type": "code",
   "execution_count": 25,
   "metadata": {},
   "outputs": [
    {
     "name": "stdout",
     "output_type": "stream",
     "text": [
      "1.  Send a copy of the letter to the following address:\n",
      "2. Send a letter of explanation to: \n",
      "3. Write to  The Indian Government of India\n",
      "4. Make a statement of your intention to pay the amount due to us.\n",
      "5. Submit the statement to :\n",
      "6. The Secretary of State for External Affairs\n",
      "7. Indian Embassy in Washington, DC\n",
      "8. Department of Foreign Affairs,\n",
      "9. Embassy of Pakistan\n",
      "10. Ministry of External affairs\n",
      "11. Foreign Ministry\n",
      "12. Government Of India, Delhi\n",
      "13. Minister of Home Affairs of Indian Republic of Kashmir\n",
      "14. State Department\n",
      "15. Secretary General of United Nations\n",
      "16. United States Department Of State\n",
      "17. Office of International Cooperation\n",
      "18. Bureau of Consular Affairs and Consulate General\n",
      "19. Consulates General in India and Pakistan.\n"
     ]
    }
   ],
   "source": [
    "question = \"Generate email for the Indian Navy saying i am sick?\"\n",
    "answer = answer_question_gpt2_v2(question, cursor)\n",
    "print(answer)"
   ]
  },
  {
   "cell_type": "code",
   "execution_count": 30,
   "metadata": {},
   "outputs": [
    {
     "name": "stdout",
     "output_type": "stream",
     "text": [
      "Romeo was the son of a wealthy merchant who had been a member of Parliament for many years. He was born in 1848 in a village in\n",
      "the village of Bhatkal, in Bihar, India. His father was a merchant and his mother was an educated woman. Romeo was educated at the University of\n",
      "India and at a private school in Delhi.\n",
      "He was appointed as a clerk in Parliament in 1860 and was elected as an MP in 1861. In 1866 he was\n",
      "elected as the MP for the constituency of Kolkata. On the same day he became the first MP to be elected from a\n",
      "district in India to represent the district of Delhi, and he served as MP from 1867 to 1871. From 1872 to\n",
      "1875 he represented the seat of Thane in Bombay. After the death of his father in 1880, Romeo married\n",
      "his second wife, a woman named Anjali. They had two children, one of whom was named Romeo. The second Romeo died in 1890. It was during this period that Romeo became a Member of parliament. During his\n",
      "life he had many engagements and engagements were arranged for him by the government. One of these engagements was with the British Government. When he\n",
      "was elected to Parliament, he took the oath of office as\n",
      "a Member and as such was responsible to them. However, when he returned to India, his wife Anja was not\n",
      "present. She was in London, where she was living at that time. Anji was then married to a British officer, who was also a minister. This\n",
      "officer was called Lord Mountbatten. Lord\n",
      "Mountbatten was very much interested in Romeo and wanted to have him as his Minister. But Romeo refused to accept this offer. So, Lord Sir William Mountbratten, then the Governor of Bombay,\n",
      "called Romeo to London and asked him to come to Bombay and take charge of Romeo's affairs. Sir\n",
      "William Mountbourne was interested to know what was going on with Romeo, so he called him and told him that he wanted him\n",
      "to\n"
     ]
    }
   ],
   "source": [
    "question = \"Who was Romeo?\"\n",
    "answer = answer_question_gpt2_v2(question, cursor)\n",
    "print(answer)"
   ]
  },
  {
   "cell_type": "code",
   "execution_count": 31,
   "metadata": {},
   "outputs": [
    {
     "name": "stdout",
     "output_type": "stream",
     "text": [
      "Juliet was the daughter of Sir John Juliet, who was\n",
      "the first Governor of New South Wales. She was born in 1835, and was educated at\n",
      "her father's school in Sydney, Australia. Her father was a lawyer, but she was also a\n",
      "womanizer, a lover of dancing, an amateur dancer, dancer and a dancer. Juliet married\n",
      "John Henry, Lord of Sydney in 1840, after which she moved to London. In 1846 she married Sir\n",
      "William Henry. They had two children, one of whom was Sir William Henry's son, Sir Henry\n",
      "Henry. Sir Richard Henry was married to Lady Jane Grey, daughter to Sir Thomas Grey.\n",
      "In 1848, Juliet moved with her husband to England, where she became a solicitor. After a few years, she returned to Australia,\n",
      "where she lived until her death in 1860. The following year, her son Sir Edward\n",
      "Juliet was appointed Governor-General of Australia by the King. He was succeeded by Sir George\n",
      "Edward, Governor for the Northern Territory. His son was Governor\n",
      "of New Zealand. During the reign of Queen Victoria, Victoria was known as the Queen of\n",
      "Australia. Victoria's daughter, Princess Victoria of Victoria (1849-1901), was Queen\n",
      "Victoria's second wife. Princess Elizabeth of England (1902-1965) was Princess\n",
      "Elizabeth of Great Britain. Elizabeth was Victoria and Victoria had been Victoria. When Victoria died in 1901, Elizabeth became\n",
      "Queen Victoria II. Queen Elizabeth II was crowned Queen on the 25th of December 1901. On the same day, Queen Mary\n",
      "(1829-1899) became Queen. Mary was Elizabeth's mother. It was during the time of Mary's reign that the British\n",
      "Government began to use the term \"British Empire\". The British Empire was formed in\n",
      "1801, when the United Kingdom was created. This was done by a treaty between the two countries. Britain was to be\n",
      "called the \"United States of Britain\". In the Treaty of Utrecht, which was signed on 1st December 1801 by\n",
      "Britain and France, it was agreed\n"
     ]
    }
   ],
   "source": [
    "question = \"Who was Juliet?\"\n",
    "answer = answer_question_gpt2_v2(question, cursor)\n",
    "print(answer)"
   ]
  },
  {
   "cell_type": "code",
   "execution_count": 32,
   "metadata": {},
   "outputs": [
    {
     "name": "stdout",
     "output_type": "stream",
     "text": [
      "It is a collection of articles, which are organized into a series of pages. The articles are divided into categories, and each category is divided in a different way.\n",
      "\n",
      "The first category, \"General Information\", is the most basic. It contains the basic information about the subject of the article. This is what Wikipedia is about. Wikipedia's purpose is to provide a comprehensive and up-to-date overview of all the information available on the Internet. In this category are the articles on Wikipedia, the Wikipedia encyclopedia, Wikipedia articles and Wikipedia pages, as well as the related Wikipedia-related articles. These articles provide information on topics such as Wikipedia and the internet, or on subjects such a Wikipedia article, a wiki article or a wikipedia page. For example, an article on wikis, such an Wikipedia page, is an encyclopedia article and is therefore a part of Wikipedia. An article about Wikipedia can be a page on a website, on an online encyclopedia or even on another website. A Wikipedia entry is also a link to a webpage on which the entry can also be found. There are also articles about other topics, like the history of science, about politics, religion, economics, etc. All these articles can all be considered part and parcel of a single encyclopedia. As a result, it is possible to find information in Wikipedia about a subject that is not part or parcel to the topic of interest. Thus, for example an entry on \"The History of Science\" can provide an overview about science and its history, but it can not provide any information that would be relevant to an academic article in the field of history. Therefore, in order to make the encyclopedia more useful, we need to organize the entries into different categories. We can do this by grouping the categories into subcategories. Subcategorization is done by dividing the category into smaller sub-categorical groups. Each subcategory is subdivided into several subgroups. One of these subgroupings is called a subtopic. When a topic is mentioned in an edit, this subforum is created. If the submitter of an edited article wants to add a new topic, he or she can create a separate subthread for that topic. Another way to do it, however, would not be to create subforums for each topic but to simply create one for every topic in which an editor wants a discussion\n"
     ]
    }
   ],
   "source": [
    "question = \"What is Wikipedia?\"\n",
    "answer = answer_question_gpt2_v2(question, cursor)\n",
    "print(answer)"
   ]
  },
  {
   "cell_type": "code",
   "execution_count": 33,
   "metadata": {},
   "outputs": [
    {
     "name": "stdout",
     "output_type": "stream",
     "text": [
      "He is the one who is responsible for the\n",
      "\n",
      "disappearance of the entire population of India. He has been\n",
      ", and is still, the chief of this country.\n",
      "The fact that he is a man of great power and influence is not\n",
      "...\n",
      "(The writer is speaking of his own personal experience.)\n",
      "\"The people of Delhi are not the only ones who are suffering from\n",
      "the absence of their leaders. The people in the other states of\n",
      "India are also suffering. They are the ones whose leaders are\n",
      "not there. It is because of these people that the country is\n",
      "in a state of crisis. This crisis is caused by the absence\n",
      "of leaders in Delhi. If the leaders of a country are absent, it is only\n",
      "because of some other cause. But if the people are deprived of leaders,\n",
      "it is due to some cause which is beyond the control of any\n",
      "person. And this cause is always the same. That cause must be\n",
      "unjust. In the case of an unjust cause, there is no remedy. There is nothing\n",
      "that can be done about it. So, if there are no leaders to take care of it, then\n",
      "there is absolutely no hope of recovery. No one can do anything about\n",
      "this. All that can happen is that there will be a period of time when\n",
      "people will not be able to do their work. Then, they will have to resort to\n",
      "other means. For example, when the government is in a crisis, people will resort\n",
      "to violence. When the Government is under attack, violence will also be resorted to. People will\n",
      "be resorting to violence because they are afraid of being killed. Now, what is wrong with\n",
      "violence? It has nothing to offer. Violence is an instrument of oppression. What is it\n",
      "wrong with oppression? When people have been oppressed,they have not been able\n",
      "truly to live. How can they live when they have no power? They have\n",
      "no means of livelihood. Their only means is to be subjected to the violence of others. Why\n",
      "should they be oppressed? Because they do not have the means to defend themselves. Therefore, this\n",
      "is the reason why they resortto violent means, which are inimical to their own\n",
      "well-being. These are all the reasons why the situation\n"
     ]
    }
   ],
   "source": [
    "question = \"Who is Divyesh?\"\n",
    "answer = answer_question_gpt2_v2(question, cursor)\n",
    "print(answer)"
   ]
  },
  {
   "cell_type": "code",
   "execution_count": 34,
   "metadata": {},
   "outputs": [
    {
     "name": "stdout",
     "output_type": "stream",
     "text": [
      "Who are the people who are responsible for this?\n",
      "\n",
      "The answer is that the SRM is the only one who is responsible.\n",
      ",\n",
      ".\n"
     ]
    }
   ],
   "source": [
    "question = \"Who is SRK?\"\n",
    "answer = answer_question_gpt2_v2(question, cursor)\n",
    "print(answer)"
   ]
  },
  {
   "cell_type": "code",
   "execution_count": 35,
   "metadata": {},
   "outputs": [
    {
     "name": "stdout",
     "output_type": "stream",
     "text": [
      "He is a man of great talent, who has been\n",
      "\n",
      "in the public eye for a long time. He has a great reputation for his\n",
      ", and his films. His films are not only popular, but they are also\n",
      ".\n",
      "The fact that Salman is not a household name is also a fact. The fact\n",
      "that he is an actor is another fact, which is why he has to be\n",
      "treated with respect. It is the same with his movies. They are\n",
      "not just popular. There are many people who are watching them. But\n",
      "they are only watching Salman. And he must be treated with the respect\n",
      "which he deserves. If he does not, he will not be able to do his job. I\n",
      "am not saying that he should be given a lot of money, or that his name should\n",
      "be attached to a movie. What I am saying is that the fact of his being an\n",
      "actor is irrelevant. Salman has done his work. You cannot say that\n",
      "he is doing his own work, because he did not do it. That is what I mean by\n",
      "\"not doing it\".\n",
      "I am not going to say anything about Salman's family. All I can say is this. We\n",
      "have to respect him. This is something that I have said before. When I was\n",
      "at the cinema, I would say to the people, \"You have to treat Salman\n",
      "with respect\". I said this because I felt that it was important for Salman to\n",
      "get the recognition that was due to him, not because of the money. So, if he\n",
      "does not get the credit that is due him then he cannot do what he wants to. In\n",
      "this respect, Salman does have a right to get recognition. However, it is\n",
      "important that we respect his family, his friends, the film industry,\n",
      "the people of India, etc. Because if we do not respect them, then we will never be in\n",
      "a position to deal with them properly.\n"
     ]
    }
   ],
   "source": [
    "question = \"Who is Salman Khan?\"\n",
    "answer = answer_question_gpt2_v2(question, cursor)\n",
    "print(answer)"
   ]
  },
  {
   "cell_type": "code",
   "execution_count": 36,
   "metadata": {},
   "outputs": [
    {
     "name": "stdout",
     "output_type": "stream",
     "text": [
      "(a) In the case of a debt of $1,000, the amount of the debt is $100.\n",
      " (b) in the other case, it is 50%.\n",
      " (c) The amount in (a), (b), and (d) is to be added to the total amount paid by the taxpayer in respect of debt. (2) Where the Minister has received a statement from the Receiver General under section 7 of this Act, he shall, on receipt of it, give notice of his intention to make a payment under this section. The Minister shall give the notice to each person who is entitled to receive it. If the person is not entitled, or is unable to, to pay the money, then the payment shall be made to that person. Where a person has paid a sum of money to a Receiver under subsection (1), the amounts paid shall not be deemed to have been paid to any other person, and the same shall apply to all payments made under that subsection. R.S., 1985, c. 1 (5th Supp.), s. 7; 1996, f. 3, s, 1; 1999, g. 2, Sched. A, ss. 5, 6; 2001, C. 15, Sch. II, p. 4; 2002, P.A. 83, § 1, eff. July 1.\n"
     ]
    }
   ],
   "source": [
    "question = \"What is the percentage of ld?\"\n",
    "answer = answer_question_gpt2_v2(question, cursor)\n",
    "print(answer)"
   ]
  },
  {
   "cell_type": "code",
   "execution_count": null,
   "metadata": {},
   "outputs": [],
   "source": [
    "question = \"What is LD as per DPM 2009?\"\n",
    "answer = answer_question_gpt2_v2(question, cursor)\n",
    "print(answer)"
   ]
  }
 ],
 "metadata": {
  "kernelspec": {
   "display_name": "Python 3",
   "language": "python",
   "name": "python3"
  },
  "language_info": {
   "codemirror_mode": {
    "name": "ipython",
    "version": 3
   },
   "file_extension": ".py",
   "mimetype": "text/x-python",
   "name": "python",
   "nbconvert_exporter": "python",
   "pygments_lexer": "ipython3",
   "version": "3.7.3"
  },
  "orig_nbformat": 4
 },
 "nbformat": 4,
 "nbformat_minor": 2
}
